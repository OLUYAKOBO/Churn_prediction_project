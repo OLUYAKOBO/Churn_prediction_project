{
 "cells": [
  {
   "cell_type": "code",
   "execution_count": 239,
   "id": "2fdc5543",
   "metadata": {},
   "outputs": [],
   "source": [
    "#import relevant libraries\n",
    "import os\n",
    "import pandas as pd\n",
    "import matplotlib.pyplot as plt\n",
    "import numpy as np\n",
    "import seaborn as sns\n",
    "sns.set()\n",
    "\n",
    "#import machine learning models\n",
    "\n",
    "from sklearn.ensemble import RandomForestClassifier,AdaBoostClassifier\n",
    "from sklearn.linear_model import LogisticRegression\n",
    "from sklearn.tree import DecisionTreeClassifier,ExtraTreeClassifier\n",
    "\n",
    "\n",
    "#model selections\n",
    "from sklearn.model_selection import train_test_split,RandomizedSearchCV\n",
    "\n",
    "#evaluation metrics\n",
    "from sklearn.metrics import confusion_matrix,recall_score,f1_score,precision_score,roc_curve"
   ]
  },
  {
   "cell_type": "code",
   "execution_count": 240,
   "id": "6a52be2a",
   "metadata": {},
   "outputs": [],
   "source": [
    "#my_path = 'C:/Users/user/Documents'"
   ]
  },
  {
   "cell_type": "code",
   "execution_count": 241,
   "id": "fd9d65e4",
   "metadata": {},
   "outputs": [
    {
     "data": {
      "text/html": [
       "<div>\n",
       "<style scoped>\n",
       "    .dataframe tbody tr th:only-of-type {\n",
       "        vertical-align: middle;\n",
       "    }\n",
       "\n",
       "    .dataframe tbody tr th {\n",
       "        vertical-align: top;\n",
       "    }\n",
       "\n",
       "    .dataframe thead th {\n",
       "        text-align: right;\n",
       "    }\n",
       "</style>\n",
       "<table border=\"1\" class=\"dataframe\">\n",
       "  <thead>\n",
       "    <tr style=\"text-align: right;\">\n",
       "      <th></th>\n",
       "      <th>RowNumber</th>\n",
       "      <th>CustomerId</th>\n",
       "      <th>Surname</th>\n",
       "      <th>CreditScore</th>\n",
       "      <th>Geography</th>\n",
       "      <th>Gender</th>\n",
       "      <th>Age</th>\n",
       "      <th>Tenure</th>\n",
       "      <th>Balance</th>\n",
       "      <th>NumOfProducts</th>\n",
       "      <th>HasCrCard</th>\n",
       "      <th>IsActiveMember</th>\n",
       "      <th>EstimatedSalary</th>\n",
       "      <th>Exited</th>\n",
       "    </tr>\n",
       "  </thead>\n",
       "  <tbody>\n",
       "    <tr>\n",
       "      <th>0</th>\n",
       "      <td>1</td>\n",
       "      <td>15634602</td>\n",
       "      <td>Hargrave</td>\n",
       "      <td>619</td>\n",
       "      <td>France</td>\n",
       "      <td>Female</td>\n",
       "      <td>42</td>\n",
       "      <td>2</td>\n",
       "      <td>0.00</td>\n",
       "      <td>1</td>\n",
       "      <td>1</td>\n",
       "      <td>1</td>\n",
       "      <td>101348.88</td>\n",
       "      <td>1</td>\n",
       "    </tr>\n",
       "    <tr>\n",
       "      <th>1</th>\n",
       "      <td>2</td>\n",
       "      <td>15647311</td>\n",
       "      <td>Hill</td>\n",
       "      <td>608</td>\n",
       "      <td>Spain</td>\n",
       "      <td>Female</td>\n",
       "      <td>41</td>\n",
       "      <td>1</td>\n",
       "      <td>83807.86</td>\n",
       "      <td>1</td>\n",
       "      <td>0</td>\n",
       "      <td>1</td>\n",
       "      <td>112542.58</td>\n",
       "      <td>0</td>\n",
       "    </tr>\n",
       "    <tr>\n",
       "      <th>2</th>\n",
       "      <td>3</td>\n",
       "      <td>15619304</td>\n",
       "      <td>Onio</td>\n",
       "      <td>502</td>\n",
       "      <td>France</td>\n",
       "      <td>Female</td>\n",
       "      <td>42</td>\n",
       "      <td>8</td>\n",
       "      <td>159660.80</td>\n",
       "      <td>3</td>\n",
       "      <td>1</td>\n",
       "      <td>0</td>\n",
       "      <td>113931.57</td>\n",
       "      <td>1</td>\n",
       "    </tr>\n",
       "    <tr>\n",
       "      <th>3</th>\n",
       "      <td>4</td>\n",
       "      <td>15701354</td>\n",
       "      <td>Boni</td>\n",
       "      <td>699</td>\n",
       "      <td>France</td>\n",
       "      <td>Female</td>\n",
       "      <td>39</td>\n",
       "      <td>1</td>\n",
       "      <td>0.00</td>\n",
       "      <td>2</td>\n",
       "      <td>0</td>\n",
       "      <td>0</td>\n",
       "      <td>93826.63</td>\n",
       "      <td>0</td>\n",
       "    </tr>\n",
       "    <tr>\n",
       "      <th>4</th>\n",
       "      <td>5</td>\n",
       "      <td>15737888</td>\n",
       "      <td>Mitchell</td>\n",
       "      <td>850</td>\n",
       "      <td>Spain</td>\n",
       "      <td>Female</td>\n",
       "      <td>43</td>\n",
       "      <td>2</td>\n",
       "      <td>125510.82</td>\n",
       "      <td>1</td>\n",
       "      <td>1</td>\n",
       "      <td>1</td>\n",
       "      <td>79084.10</td>\n",
       "      <td>0</td>\n",
       "    </tr>\n",
       "    <tr>\n",
       "      <th>...</th>\n",
       "      <td>...</td>\n",
       "      <td>...</td>\n",
       "      <td>...</td>\n",
       "      <td>...</td>\n",
       "      <td>...</td>\n",
       "      <td>...</td>\n",
       "      <td>...</td>\n",
       "      <td>...</td>\n",
       "      <td>...</td>\n",
       "      <td>...</td>\n",
       "      <td>...</td>\n",
       "      <td>...</td>\n",
       "      <td>...</td>\n",
       "      <td>...</td>\n",
       "    </tr>\n",
       "    <tr>\n",
       "      <th>9995</th>\n",
       "      <td>9996</td>\n",
       "      <td>15606229</td>\n",
       "      <td>Obijiaku</td>\n",
       "      <td>771</td>\n",
       "      <td>France</td>\n",
       "      <td>Male</td>\n",
       "      <td>39</td>\n",
       "      <td>5</td>\n",
       "      <td>0.00</td>\n",
       "      <td>2</td>\n",
       "      <td>1</td>\n",
       "      <td>0</td>\n",
       "      <td>96270.64</td>\n",
       "      <td>0</td>\n",
       "    </tr>\n",
       "    <tr>\n",
       "      <th>9996</th>\n",
       "      <td>9997</td>\n",
       "      <td>15569892</td>\n",
       "      <td>Johnstone</td>\n",
       "      <td>516</td>\n",
       "      <td>France</td>\n",
       "      <td>Male</td>\n",
       "      <td>35</td>\n",
       "      <td>10</td>\n",
       "      <td>57369.61</td>\n",
       "      <td>1</td>\n",
       "      <td>1</td>\n",
       "      <td>1</td>\n",
       "      <td>101699.77</td>\n",
       "      <td>0</td>\n",
       "    </tr>\n",
       "    <tr>\n",
       "      <th>9997</th>\n",
       "      <td>9998</td>\n",
       "      <td>15584532</td>\n",
       "      <td>Liu</td>\n",
       "      <td>709</td>\n",
       "      <td>France</td>\n",
       "      <td>Female</td>\n",
       "      <td>36</td>\n",
       "      <td>7</td>\n",
       "      <td>0.00</td>\n",
       "      <td>1</td>\n",
       "      <td>0</td>\n",
       "      <td>1</td>\n",
       "      <td>42085.58</td>\n",
       "      <td>1</td>\n",
       "    </tr>\n",
       "    <tr>\n",
       "      <th>9998</th>\n",
       "      <td>9999</td>\n",
       "      <td>15682355</td>\n",
       "      <td>Sabbatini</td>\n",
       "      <td>772</td>\n",
       "      <td>Germany</td>\n",
       "      <td>Male</td>\n",
       "      <td>42</td>\n",
       "      <td>3</td>\n",
       "      <td>75075.31</td>\n",
       "      <td>2</td>\n",
       "      <td>1</td>\n",
       "      <td>0</td>\n",
       "      <td>92888.52</td>\n",
       "      <td>1</td>\n",
       "    </tr>\n",
       "    <tr>\n",
       "      <th>9999</th>\n",
       "      <td>10000</td>\n",
       "      <td>15628319</td>\n",
       "      <td>Walker</td>\n",
       "      <td>792</td>\n",
       "      <td>France</td>\n",
       "      <td>Female</td>\n",
       "      <td>28</td>\n",
       "      <td>4</td>\n",
       "      <td>130142.79</td>\n",
       "      <td>1</td>\n",
       "      <td>1</td>\n",
       "      <td>0</td>\n",
       "      <td>38190.78</td>\n",
       "      <td>0</td>\n",
       "    </tr>\n",
       "  </tbody>\n",
       "</table>\n",
       "<p>10000 rows × 14 columns</p>\n",
       "</div>"
      ],
      "text/plain": [
       "      RowNumber  CustomerId    Surname  CreditScore Geography  Gender  Age  \\\n",
       "0             1    15634602   Hargrave          619    France  Female   42   \n",
       "1             2    15647311       Hill          608     Spain  Female   41   \n",
       "2             3    15619304       Onio          502    France  Female   42   \n",
       "3             4    15701354       Boni          699    France  Female   39   \n",
       "4             5    15737888   Mitchell          850     Spain  Female   43   \n",
       "...         ...         ...        ...          ...       ...     ...  ...   \n",
       "9995       9996    15606229   Obijiaku          771    France    Male   39   \n",
       "9996       9997    15569892  Johnstone          516    France    Male   35   \n",
       "9997       9998    15584532        Liu          709    France  Female   36   \n",
       "9998       9999    15682355  Sabbatini          772   Germany    Male   42   \n",
       "9999      10000    15628319     Walker          792    France  Female   28   \n",
       "\n",
       "      Tenure    Balance  NumOfProducts  HasCrCard  IsActiveMember  \\\n",
       "0          2       0.00              1          1               1   \n",
       "1          1   83807.86              1          0               1   \n",
       "2          8  159660.80              3          1               0   \n",
       "3          1       0.00              2          0               0   \n",
       "4          2  125510.82              1          1               1   \n",
       "...      ...        ...            ...        ...             ...   \n",
       "9995       5       0.00              2          1               0   \n",
       "9996      10   57369.61              1          1               1   \n",
       "9997       7       0.00              1          0               1   \n",
       "9998       3   75075.31              2          1               0   \n",
       "9999       4  130142.79              1          1               0   \n",
       "\n",
       "      EstimatedSalary  Exited  \n",
       "0           101348.88       1  \n",
       "1           112542.58       0  \n",
       "2           113931.57       1  \n",
       "3            93826.63       0  \n",
       "4            79084.10       0  \n",
       "...               ...     ...  \n",
       "9995         96270.64       0  \n",
       "9996        101699.77       0  \n",
       "9997         42085.58       1  \n",
       "9998         92888.52       1  \n",
       "9999         38190.78       0  \n",
       "\n",
       "[10000 rows x 14 columns]"
      ]
     },
     "execution_count": 241,
     "metadata": {},
     "output_type": "execute_result"
    }
   ],
   "source": [
    "#df = pd.read_csv(os.path.join(my_path,'Churn_Modelling.csv'))\n",
    "df = pd.read_csv('Churn_Modelling.csv')\n",
    "df"
   ]
  },
  {
   "cell_type": "code",
   "execution_count": 242,
   "id": "bbdb2a8b",
   "metadata": {},
   "outputs": [
    {
     "name": "stdout",
     "output_type": "stream",
     "text": [
      "<class 'pandas.core.frame.DataFrame'>\n",
      "RangeIndex: 10000 entries, 0 to 9999\n",
      "Data columns (total 14 columns):\n",
      " #   Column           Non-Null Count  Dtype  \n",
      "---  ------           --------------  -----  \n",
      " 0   RowNumber        10000 non-null  int64  \n",
      " 1   CustomerId       10000 non-null  int64  \n",
      " 2   Surname          10000 non-null  object \n",
      " 3   CreditScore      10000 non-null  int64  \n",
      " 4   Geography        10000 non-null  object \n",
      " 5   Gender           10000 non-null  object \n",
      " 6   Age              10000 non-null  int64  \n",
      " 7   Tenure           10000 non-null  int64  \n",
      " 8   Balance          10000 non-null  float64\n",
      " 9   NumOfProducts    10000 non-null  int64  \n",
      " 10  HasCrCard        10000 non-null  int64  \n",
      " 11  IsActiveMember   10000 non-null  int64  \n",
      " 12  EstimatedSalary  10000 non-null  float64\n",
      " 13  Exited           10000 non-null  int64  \n",
      "dtypes: float64(2), int64(9), object(3)\n",
      "memory usage: 1.1+ MB\n"
     ]
    }
   ],
   "source": [
    "df.info()"
   ]
  },
  {
   "cell_type": "code",
   "execution_count": 243,
   "id": "1a86189b",
   "metadata": {},
   "outputs": [
    {
     "data": {
      "text/plain": [
       "RowNumber          0\n",
       "CustomerId         0\n",
       "Surname            0\n",
       "CreditScore        0\n",
       "Geography          0\n",
       "Gender             0\n",
       "Age                0\n",
       "Tenure             0\n",
       "Balance            0\n",
       "NumOfProducts      0\n",
       "HasCrCard          0\n",
       "IsActiveMember     0\n",
       "EstimatedSalary    0\n",
       "Exited             0\n",
       "dtype: int64"
      ]
     },
     "execution_count": 243,
     "metadata": {},
     "output_type": "execute_result"
    }
   ],
   "source": [
    "#checking to see if there are missing values present\n",
    "df.isna().sum()"
   ]
  },
  {
   "cell_type": "code",
   "execution_count": 244,
   "id": "3c8bcecd",
   "metadata": {
    "scrolled": true
   },
   "outputs": [
    {
     "name": "stdout",
     "output_type": "stream",
     "text": [
      "Surname\n",
      "Geography\n",
      "Gender\n"
     ]
    }
   ],
   "source": [
    "#displaying the categorical columns\n",
    "for c in df.columns:\n",
    "    if df[c].dtype == 'object':\n",
    "        print(c)"
   ]
  },
  {
   "cell_type": "code",
   "execution_count": 245,
   "id": "dcf890be",
   "metadata": {},
   "outputs": [
    {
     "data": {
      "text/plain": [
       "array(['Female', 'Male'], dtype=object)"
      ]
     },
     "execution_count": 245,
     "metadata": {},
     "output_type": "execute_result"
    }
   ],
   "source": [
    "df.Gender.unique()"
   ]
  },
  {
   "cell_type": "code",
   "execution_count": 246,
   "id": "13f1fd99",
   "metadata": {
    "scrolled": true
   },
   "outputs": [],
   "source": [
    "#storing the categorical columns in a list\n",
    "cat_columns = []\n",
    "for c in df.columns:\n",
    "    if df[c].dtype == 'object':\n",
    "        cat_columns.append(c)\n",
    "        #print(f'{df[c]}: {df[c].unique()}')"
   ]
  },
  {
   "cell_type": "code",
   "execution_count": 247,
   "id": "be6f2603",
   "metadata": {},
   "outputs": [
    {
     "data": {
      "text/plain": [
       "['Surname', 'Geography', 'Gender']"
      ]
     },
     "execution_count": 247,
     "metadata": {},
     "output_type": "execute_result"
    }
   ],
   "source": [
    "cat_columns"
   ]
  },
  {
   "cell_type": "code",
   "execution_count": 248,
   "id": "42ab0212",
   "metadata": {},
   "outputs": [
    {
     "data": {
      "text/html": [
       "<div>\n",
       "<style scoped>\n",
       "    .dataframe tbody tr th:only-of-type {\n",
       "        vertical-align: middle;\n",
       "    }\n",
       "\n",
       "    .dataframe tbody tr th {\n",
       "        vertical-align: top;\n",
       "    }\n",
       "\n",
       "    .dataframe thead th {\n",
       "        text-align: right;\n",
       "    }\n",
       "</style>\n",
       "<table border=\"1\" class=\"dataframe\">\n",
       "  <thead>\n",
       "    <tr style=\"text-align: right;\">\n",
       "      <th></th>\n",
       "      <th>RowNumber</th>\n",
       "      <th>CustomerId</th>\n",
       "      <th>CreditScore</th>\n",
       "      <th>Age</th>\n",
       "      <th>Tenure</th>\n",
       "      <th>Balance</th>\n",
       "      <th>NumOfProducts</th>\n",
       "      <th>HasCrCard</th>\n",
       "      <th>IsActiveMember</th>\n",
       "      <th>EstimatedSalary</th>\n",
       "      <th>Exited</th>\n",
       "    </tr>\n",
       "  </thead>\n",
       "  <tbody>\n",
       "    <tr>\n",
       "      <th>count</th>\n",
       "      <td>10000.00000</td>\n",
       "      <td>1.000000e+04</td>\n",
       "      <td>10000.000000</td>\n",
       "      <td>10000.000000</td>\n",
       "      <td>10000.000000</td>\n",
       "      <td>10000.000000</td>\n",
       "      <td>10000.000000</td>\n",
       "      <td>10000.00000</td>\n",
       "      <td>10000.000000</td>\n",
       "      <td>10000.000000</td>\n",
       "      <td>10000.000000</td>\n",
       "    </tr>\n",
       "    <tr>\n",
       "      <th>mean</th>\n",
       "      <td>5000.50000</td>\n",
       "      <td>1.569094e+07</td>\n",
       "      <td>650.528800</td>\n",
       "      <td>38.921800</td>\n",
       "      <td>5.012800</td>\n",
       "      <td>76485.889288</td>\n",
       "      <td>1.530200</td>\n",
       "      <td>0.70550</td>\n",
       "      <td>0.515100</td>\n",
       "      <td>100090.239881</td>\n",
       "      <td>0.203700</td>\n",
       "    </tr>\n",
       "    <tr>\n",
       "      <th>std</th>\n",
       "      <td>2886.89568</td>\n",
       "      <td>7.193619e+04</td>\n",
       "      <td>96.653299</td>\n",
       "      <td>10.487806</td>\n",
       "      <td>2.892174</td>\n",
       "      <td>62397.405202</td>\n",
       "      <td>0.581654</td>\n",
       "      <td>0.45584</td>\n",
       "      <td>0.499797</td>\n",
       "      <td>57510.492818</td>\n",
       "      <td>0.402769</td>\n",
       "    </tr>\n",
       "    <tr>\n",
       "      <th>min</th>\n",
       "      <td>1.00000</td>\n",
       "      <td>1.556570e+07</td>\n",
       "      <td>350.000000</td>\n",
       "      <td>18.000000</td>\n",
       "      <td>0.000000</td>\n",
       "      <td>0.000000</td>\n",
       "      <td>1.000000</td>\n",
       "      <td>0.00000</td>\n",
       "      <td>0.000000</td>\n",
       "      <td>11.580000</td>\n",
       "      <td>0.000000</td>\n",
       "    </tr>\n",
       "    <tr>\n",
       "      <th>25%</th>\n",
       "      <td>2500.75000</td>\n",
       "      <td>1.562853e+07</td>\n",
       "      <td>584.000000</td>\n",
       "      <td>32.000000</td>\n",
       "      <td>3.000000</td>\n",
       "      <td>0.000000</td>\n",
       "      <td>1.000000</td>\n",
       "      <td>0.00000</td>\n",
       "      <td>0.000000</td>\n",
       "      <td>51002.110000</td>\n",
       "      <td>0.000000</td>\n",
       "    </tr>\n",
       "    <tr>\n",
       "      <th>50%</th>\n",
       "      <td>5000.50000</td>\n",
       "      <td>1.569074e+07</td>\n",
       "      <td>652.000000</td>\n",
       "      <td>37.000000</td>\n",
       "      <td>5.000000</td>\n",
       "      <td>97198.540000</td>\n",
       "      <td>1.000000</td>\n",
       "      <td>1.00000</td>\n",
       "      <td>1.000000</td>\n",
       "      <td>100193.915000</td>\n",
       "      <td>0.000000</td>\n",
       "    </tr>\n",
       "    <tr>\n",
       "      <th>75%</th>\n",
       "      <td>7500.25000</td>\n",
       "      <td>1.575323e+07</td>\n",
       "      <td>718.000000</td>\n",
       "      <td>44.000000</td>\n",
       "      <td>7.000000</td>\n",
       "      <td>127644.240000</td>\n",
       "      <td>2.000000</td>\n",
       "      <td>1.00000</td>\n",
       "      <td>1.000000</td>\n",
       "      <td>149388.247500</td>\n",
       "      <td>0.000000</td>\n",
       "    </tr>\n",
       "    <tr>\n",
       "      <th>max</th>\n",
       "      <td>10000.00000</td>\n",
       "      <td>1.581569e+07</td>\n",
       "      <td>850.000000</td>\n",
       "      <td>92.000000</td>\n",
       "      <td>10.000000</td>\n",
       "      <td>250898.090000</td>\n",
       "      <td>4.000000</td>\n",
       "      <td>1.00000</td>\n",
       "      <td>1.000000</td>\n",
       "      <td>199992.480000</td>\n",
       "      <td>1.000000</td>\n",
       "    </tr>\n",
       "  </tbody>\n",
       "</table>\n",
       "</div>"
      ],
      "text/plain": [
       "         RowNumber    CustomerId   CreditScore           Age        Tenure  \\\n",
       "count  10000.00000  1.000000e+04  10000.000000  10000.000000  10000.000000   \n",
       "mean    5000.50000  1.569094e+07    650.528800     38.921800      5.012800   \n",
       "std     2886.89568  7.193619e+04     96.653299     10.487806      2.892174   \n",
       "min        1.00000  1.556570e+07    350.000000     18.000000      0.000000   \n",
       "25%     2500.75000  1.562853e+07    584.000000     32.000000      3.000000   \n",
       "50%     5000.50000  1.569074e+07    652.000000     37.000000      5.000000   \n",
       "75%     7500.25000  1.575323e+07    718.000000     44.000000      7.000000   \n",
       "max    10000.00000  1.581569e+07    850.000000     92.000000     10.000000   \n",
       "\n",
       "             Balance  NumOfProducts    HasCrCard  IsActiveMember  \\\n",
       "count   10000.000000   10000.000000  10000.00000    10000.000000   \n",
       "mean    76485.889288       1.530200      0.70550        0.515100   \n",
       "std     62397.405202       0.581654      0.45584        0.499797   \n",
       "min         0.000000       1.000000      0.00000        0.000000   \n",
       "25%         0.000000       1.000000      0.00000        0.000000   \n",
       "50%     97198.540000       1.000000      1.00000        1.000000   \n",
       "75%    127644.240000       2.000000      1.00000        1.000000   \n",
       "max    250898.090000       4.000000      1.00000        1.000000   \n",
       "\n",
       "       EstimatedSalary        Exited  \n",
       "count     10000.000000  10000.000000  \n",
       "mean     100090.239881      0.203700  \n",
       "std       57510.492818      0.402769  \n",
       "min          11.580000      0.000000  \n",
       "25%       51002.110000      0.000000  \n",
       "50%      100193.915000      0.000000  \n",
       "75%      149388.247500      0.000000  \n",
       "max      199992.480000      1.000000  "
      ]
     },
     "execution_count": 248,
     "metadata": {},
     "output_type": "execute_result"
    }
   ],
   "source": [
    "#cgecking the descriptive statistics of the data\n",
    "df.describe()"
   ]
  },
  {
   "cell_type": "markdown",
   "id": "f4ce8eda",
   "metadata": {},
   "source": [
    "##### There are two columns in the dataset that do not seem to add much to the dataset, CustomerId and RowNumber\n",
    "* The two columns will be dropped"
   ]
  },
  {
   "cell_type": "code",
   "execution_count": 249,
   "id": "8eae970e",
   "metadata": {},
   "outputs": [],
   "source": [
    "df.drop(['RowNumber','CustomerId'],\n",
    "       axis = 1,\n",
    "       inplace = True)"
   ]
  },
  {
   "cell_type": "code",
   "execution_count": 250,
   "id": "eb209f4a",
   "metadata": {},
   "outputs": [
    {
     "data": {
      "text/html": [
       "<div>\n",
       "<style scoped>\n",
       "    .dataframe tbody tr th:only-of-type {\n",
       "        vertical-align: middle;\n",
       "    }\n",
       "\n",
       "    .dataframe tbody tr th {\n",
       "        vertical-align: top;\n",
       "    }\n",
       "\n",
       "    .dataframe thead th {\n",
       "        text-align: right;\n",
       "    }\n",
       "</style>\n",
       "<table border=\"1\" class=\"dataframe\">\n",
       "  <thead>\n",
       "    <tr style=\"text-align: right;\">\n",
       "      <th></th>\n",
       "      <th>Surname</th>\n",
       "      <th>CreditScore</th>\n",
       "      <th>Geography</th>\n",
       "      <th>Gender</th>\n",
       "      <th>Age</th>\n",
       "      <th>Tenure</th>\n",
       "      <th>Balance</th>\n",
       "      <th>NumOfProducts</th>\n",
       "      <th>HasCrCard</th>\n",
       "      <th>IsActiveMember</th>\n",
       "      <th>EstimatedSalary</th>\n",
       "      <th>Exited</th>\n",
       "    </tr>\n",
       "  </thead>\n",
       "  <tbody>\n",
       "    <tr>\n",
       "      <th>0</th>\n",
       "      <td>Hargrave</td>\n",
       "      <td>619</td>\n",
       "      <td>France</td>\n",
       "      <td>Female</td>\n",
       "      <td>42</td>\n",
       "      <td>2</td>\n",
       "      <td>0.00</td>\n",
       "      <td>1</td>\n",
       "      <td>1</td>\n",
       "      <td>1</td>\n",
       "      <td>101348.88</td>\n",
       "      <td>1</td>\n",
       "    </tr>\n",
       "    <tr>\n",
       "      <th>1</th>\n",
       "      <td>Hill</td>\n",
       "      <td>608</td>\n",
       "      <td>Spain</td>\n",
       "      <td>Female</td>\n",
       "      <td>41</td>\n",
       "      <td>1</td>\n",
       "      <td>83807.86</td>\n",
       "      <td>1</td>\n",
       "      <td>0</td>\n",
       "      <td>1</td>\n",
       "      <td>112542.58</td>\n",
       "      <td>0</td>\n",
       "    </tr>\n",
       "    <tr>\n",
       "      <th>2</th>\n",
       "      <td>Onio</td>\n",
       "      <td>502</td>\n",
       "      <td>France</td>\n",
       "      <td>Female</td>\n",
       "      <td>42</td>\n",
       "      <td>8</td>\n",
       "      <td>159660.80</td>\n",
       "      <td>3</td>\n",
       "      <td>1</td>\n",
       "      <td>0</td>\n",
       "      <td>113931.57</td>\n",
       "      <td>1</td>\n",
       "    </tr>\n",
       "    <tr>\n",
       "      <th>3</th>\n",
       "      <td>Boni</td>\n",
       "      <td>699</td>\n",
       "      <td>France</td>\n",
       "      <td>Female</td>\n",
       "      <td>39</td>\n",
       "      <td>1</td>\n",
       "      <td>0.00</td>\n",
       "      <td>2</td>\n",
       "      <td>0</td>\n",
       "      <td>0</td>\n",
       "      <td>93826.63</td>\n",
       "      <td>0</td>\n",
       "    </tr>\n",
       "    <tr>\n",
       "      <th>4</th>\n",
       "      <td>Mitchell</td>\n",
       "      <td>850</td>\n",
       "      <td>Spain</td>\n",
       "      <td>Female</td>\n",
       "      <td>43</td>\n",
       "      <td>2</td>\n",
       "      <td>125510.82</td>\n",
       "      <td>1</td>\n",
       "      <td>1</td>\n",
       "      <td>1</td>\n",
       "      <td>79084.10</td>\n",
       "      <td>0</td>\n",
       "    </tr>\n",
       "  </tbody>\n",
       "</table>\n",
       "</div>"
      ],
      "text/plain": [
       "    Surname  CreditScore Geography  Gender  Age  Tenure    Balance  \\\n",
       "0  Hargrave          619    France  Female   42       2       0.00   \n",
       "1      Hill          608     Spain  Female   41       1   83807.86   \n",
       "2      Onio          502    France  Female   42       8  159660.80   \n",
       "3      Boni          699    France  Female   39       1       0.00   \n",
       "4  Mitchell          850     Spain  Female   43       2  125510.82   \n",
       "\n",
       "   NumOfProducts  HasCrCard  IsActiveMember  EstimatedSalary  Exited  \n",
       "0              1          1               1        101348.88       1  \n",
       "1              1          0               1        112542.58       0  \n",
       "2              3          1               0        113931.57       1  \n",
       "3              2          0               0         93826.63       0  \n",
       "4              1          1               1         79084.10       0  "
      ]
     },
     "execution_count": 250,
     "metadata": {},
     "output_type": "execute_result"
    }
   ],
   "source": [
    "df.head()"
   ]
  },
  {
   "cell_type": "markdown",
   "id": "7286d59e",
   "metadata": {},
   "source": [
    "##### Exploratory Data Analysis"
   ]
  },
  {
   "cell_type": "code",
   "execution_count": 251,
   "id": "16213c37",
   "metadata": {
    "scrolled": true
   },
   "outputs": [
    {
     "name": "stderr",
     "output_type": "stream",
     "text": [
      "C:\\Users\\OLU-JUNAID & CO\\AppData\\Local\\Temp\\ipykernel_10352\\2160652115.py:1: UserWarning: \n",
      "\n",
      "`distplot` is a deprecated function and will be removed in seaborn v0.14.0.\n",
      "\n",
      "Please adapt your code to use either `displot` (a figure-level function with\n",
      "similar flexibility) or `histplot` (an axes-level function for histograms).\n",
      "\n",
      "For a guide to updating your code to use the new functions, please see\n",
      "https://gist.github.com/mwaskom/de44147ed2974457ad6372750bbe5751\n",
      "\n",
      "  sns.distplot(df.EstimatedSalary)\n"
     ]
    },
    {
     "data": {
      "text/plain": [
       "<Axes: xlabel='EstimatedSalary', ylabel='Density'>"
      ]
     },
     "execution_count": 251,
     "metadata": {},
     "output_type": "execute_result"
    },
    {
     "data": {
      "image/png": "[encoded data removed]",
      "text/plain": [
       "<Figure size 640x480 with 1 Axes>"
      ]
     },
     "metadata": {},
     "output_type": "display_data"
    }
   ],
   "source": [
    "sns.distplot(df.EstimatedSalary)"
   ]
  },
  {
   "cell_type": "code",
   "execution_count": 252,
   "id": "055c0308",
   "metadata": {},
   "outputs": [
    {
     "data": {
      "text/plain": [
       "<Axes: >"
      ]
     },
     "execution_count": 252,
     "metadata": {},
     "output_type": "execute_result"
    },
    {
     "data": {
      "image/png": "[encoded data removed]",
      "text/plain": [
       "<Figure size 640x480 with 1 Axes>"
      ]
     },
     "metadata": {},
     "output_type": "display_data"
    }
   ],
   "source": [
    "sns.boxplot(df.EstimatedSalary)"
   ]
  },
  {
   "cell_type": "code",
   "execution_count": 253,
   "id": "f8fa0b24",
   "metadata": {},
   "outputs": [
    {
     "data": {
      "text/plain": [
       "HasCrCard\n",
       "1    7055\n",
       "0    2945\n",
       "Name: count, dtype: int64"
      ]
     },
     "execution_count": 253,
     "metadata": {},
     "output_type": "execute_result"
    }
   ],
   "source": [
    "df.HasCrCard.value_counts()"
   ]
  },
  {
   "cell_type": "markdown",
   "id": "5930bf4b",
   "metadata": {},
   "source": [
    "* More customers have credit cards"
   ]
  },
  {
   "cell_type": "code",
   "execution_count": 254,
   "id": "bc9facc6",
   "metadata": {},
   "outputs": [
    {
     "data": {
      "image/png": "[encoded data removed]",
      "text/plain": [
       "<Figure size 640x480 with 1 Axes>"
      ]
     },
     "metadata": {},
     "output_type": "display_data"
    }
   ],
   "source": [
    "df.Exited.value_counts().plot(kind = 'bar',color = ['blue','red'])\n",
    "plt.xticks(rotation = 0);"
   ]
  },
  {
   "cell_type": "markdown",
   "id": "ea871576",
   "metadata": {},
   "source": [
    "* Blue represents the customers that didn't exit , while red reps the customers that exited\n",
    "* This is an imbalanced dataset"
   ]
  },
  {
   "cell_type": "code",
   "execution_count": 255,
   "id": "18d8bf20",
   "metadata": {},
   "outputs": [
    {
     "data": {
      "text/plain": [
       "Exited\n",
       "0    5631\n",
       "1    1424\n",
       "Name: count, dtype: int64"
      ]
     },
     "execution_count": 255,
     "metadata": {},
     "output_type": "execute_result"
    }
   ],
   "source": [
    "df.Exited[df.HasCrCard==1].value_counts()"
   ]
  },
  {
   "cell_type": "code",
   "execution_count": 256,
   "id": "7c27c9f5",
   "metadata": {},
   "outputs": [
    {
     "data": {
      "text/plain": [
       "(array([0, 1]), [Text(0, 0, '0'), Text(1, 0, '1')])"
      ]
     },
     "execution_count": 256,
     "metadata": {},
     "output_type": "execute_result"
    },
    {
     "data": {
      "image/png": "[encoded data removed]",
      "text/plain": [
       "<Figure size 640x480 with 1 Axes>"
      ]
     },
     "metadata": {},
     "output_type": "display_data"
    }
   ],
   "source": [
    "df.Exited[df.HasCrCard==1].value_counts().plot(kind = 'bar',color = ['blue','red'])\n",
    "plt.xticks(rotation = 0)"
   ]
  },
  {
   "cell_type": "markdown",
   "id": "a044d304",
   "metadata": {},
   "source": [
    "* From the bar chart above,i deduced that a customer that has credit card is more likely to stay than exit"
   ]
  },
  {
   "cell_type": "code",
   "execution_count": 257,
   "id": "541bb1a5",
   "metadata": {},
   "outputs": [
    {
     "data": {
      "text/plain": [
       "Exited\n",
       "0    2332\n",
       "1     613\n",
       "Name: count, dtype: int64"
      ]
     },
     "execution_count": 257,
     "metadata": {},
     "output_type": "execute_result"
    }
   ],
   "source": [
    "df.Exited[df.HasCrCard==0].value_counts()"
   ]
  },
  {
   "cell_type": "code",
   "execution_count": 258,
   "id": "12148978",
   "metadata": {},
   "outputs": [
    {
     "data": {
      "text/plain": [
       "(array([0, 1]), [Text(0, 0, '0'), Text(1, 0, '1')])"
      ]
     },
     "execution_count": 258,
     "metadata": {},
     "output_type": "execute_result"
    },
    {
     "data": {
      "image/png": "[encoded data removed]",
      "text/plain": [
       "<Figure size 640x480 with 1 Axes>"
      ]
     },
     "metadata": {},
     "output_type": "display_data"
    }
   ],
   "source": [
    "df.Exited[df.HasCrCard==0].value_counts().plot(kind = 'bar',color = ['blue','red'])\n",
    "plt.xticks(rotation = 0)"
   ]
  },
  {
   "cell_type": "code",
   "execution_count": 259,
   "id": "05b483ce",
   "metadata": {},
   "outputs": [
    {
     "data": {
      "text/plain": [
       "0.20814940577249574"
      ]
     },
     "execution_count": 259,
     "metadata": {},
     "output_type": "execute_result"
    }
   ],
   "source": [
    "613/(613+2332)"
   ]
  },
  {
   "cell_type": "code",
   "execution_count": 260,
   "id": "a1ca6752",
   "metadata": {},
   "outputs": [
    {
     "data": {
      "text/plain": [
       "0.20184266477675408"
      ]
     },
     "execution_count": 260,
     "metadata": {},
     "output_type": "execute_result"
    }
   ],
   "source": [
    "1424/(5631+1424)"
   ]
  },
  {
   "cell_type": "markdown",
   "id": "4dfd4bd1",
   "metadata": {},
   "source": [
    "* The probability of a person staying when they either have a credit card or not is almost the same"
   ]
  },
  {
   "cell_type": "code",
   "execution_count": 261,
   "id": "4c2aaa52",
   "metadata": {},
   "outputs": [
    {
     "data": {
      "text/html": [
       "<div>\n",
       "<style scoped>\n",
       "    .dataframe tbody tr th:only-of-type {\n",
       "        vertical-align: middle;\n",
       "    }\n",
       "\n",
       "    .dataframe tbody tr th {\n",
       "        vertical-align: top;\n",
       "    }\n",
       "\n",
       "    .dataframe thead th {\n",
       "        text-align: right;\n",
       "    }\n",
       "</style>\n",
       "<table border=\"1\" class=\"dataframe\">\n",
       "  <thead>\n",
       "    <tr style=\"text-align: right;\">\n",
       "      <th></th>\n",
       "      <th>CreditScore</th>\n",
       "      <th>Age</th>\n",
       "      <th>Tenure</th>\n",
       "      <th>Balance</th>\n",
       "      <th>NumOfProducts</th>\n",
       "      <th>HasCrCard</th>\n",
       "      <th>IsActiveMember</th>\n",
       "      <th>EstimatedSalary</th>\n",
       "      <th>Exited</th>\n",
       "    </tr>\n",
       "  </thead>\n",
       "  <tbody>\n",
       "    <tr>\n",
       "      <th>count</th>\n",
       "      <td>10000.000000</td>\n",
       "      <td>10000.000000</td>\n",
       "      <td>10000.000000</td>\n",
       "      <td>10000.000000</td>\n",
       "      <td>10000.000000</td>\n",
       "      <td>10000.00000</td>\n",
       "      <td>10000.000000</td>\n",
       "      <td>10000.000000</td>\n",
       "      <td>10000.000000</td>\n",
       "    </tr>\n",
       "    <tr>\n",
       "      <th>mean</th>\n",
       "      <td>650.528800</td>\n",
       "      <td>38.921800</td>\n",
       "      <td>5.012800</td>\n",
       "      <td>76485.889288</td>\n",
       "      <td>1.530200</td>\n",
       "      <td>0.70550</td>\n",
       "      <td>0.515100</td>\n",
       "      <td>100090.239881</td>\n",
       "      <td>0.203700</td>\n",
       "    </tr>\n",
       "    <tr>\n",
       "      <th>std</th>\n",
       "      <td>96.653299</td>\n",
       "      <td>10.487806</td>\n",
       "      <td>2.892174</td>\n",
       "      <td>62397.405202</td>\n",
       "      <td>0.581654</td>\n",
       "      <td>0.45584</td>\n",
       "      <td>0.499797</td>\n",
       "      <td>57510.492818</td>\n",
       "      <td>0.402769</td>\n",
       "    </tr>\n",
       "    <tr>\n",
       "      <th>min</th>\n",
       "      <td>350.000000</td>\n",
       "      <td>18.000000</td>\n",
       "      <td>0.000000</td>\n",
       "      <td>0.000000</td>\n",
       "      <td>1.000000</td>\n",
       "      <td>0.00000</td>\n",
       "      <td>0.000000</td>\n",
       "      <td>11.580000</td>\n",
       "      <td>0.000000</td>\n",
       "    </tr>\n",
       "    <tr>\n",
       "      <th>25%</th>\n",
       "      <td>584.000000</td>\n",
       "      <td>32.000000</td>\n",
       "      <td>3.000000</td>\n",
       "      <td>0.000000</td>\n",
       "      <td>1.000000</td>\n",
       "      <td>0.00000</td>\n",
       "      <td>0.000000</td>\n",
       "      <td>51002.110000</td>\n",
       "      <td>0.000000</td>\n",
       "    </tr>\n",
       "    <tr>\n",
       "      <th>50%</th>\n",
       "      <td>652.000000</td>\n",
       "      <td>37.000000</td>\n",
       "      <td>5.000000</td>\n",
       "      <td>97198.540000</td>\n",
       "      <td>1.000000</td>\n",
       "      <td>1.00000</td>\n",
       "      <td>1.000000</td>\n",
       "      <td>100193.915000</td>\n",
       "      <td>0.000000</td>\n",
       "    </tr>\n",
       "    <tr>\n",
       "      <th>75%</th>\n",
       "      <td>718.000000</td>\n",
       "      <td>44.000000</td>\n",
       "      <td>7.000000</td>\n",
       "      <td>127644.240000</td>\n",
       "      <td>2.000000</td>\n",
       "      <td>1.00000</td>\n",
       "      <td>1.000000</td>\n",
       "      <td>149388.247500</td>\n",
       "      <td>0.000000</td>\n",
       "    </tr>\n",
       "    <tr>\n",
       "      <th>max</th>\n",
       "      <td>850.000000</td>\n",
       "      <td>92.000000</td>\n",
       "      <td>10.000000</td>\n",
       "      <td>250898.090000</td>\n",
       "      <td>4.000000</td>\n",
       "      <td>1.00000</td>\n",
       "      <td>1.000000</td>\n",
       "      <td>199992.480000</td>\n",
       "      <td>1.000000</td>\n",
       "    </tr>\n",
       "  </tbody>\n",
       "</table>\n",
       "</div>"
      ],
      "text/plain": [
       "        CreditScore           Age        Tenure        Balance  NumOfProducts  \\\n",
       "count  10000.000000  10000.000000  10000.000000   10000.000000   10000.000000   \n",
       "mean     650.528800     38.921800      5.012800   76485.889288       1.530200   \n",
       "std       96.653299     10.487806      2.892174   62397.405202       0.581654   \n",
       "min      350.000000     18.000000      0.000000       0.000000       1.000000   \n",
       "25%      584.000000     32.000000      3.000000       0.000000       1.000000   \n",
       "50%      652.000000     37.000000      5.000000   97198.540000       1.000000   \n",
       "75%      718.000000     44.000000      7.000000  127644.240000       2.000000   \n",
       "max      850.000000     92.000000     10.000000  250898.090000       4.000000   \n",
       "\n",
       "         HasCrCard  IsActiveMember  EstimatedSalary        Exited  \n",
       "count  10000.00000    10000.000000     10000.000000  10000.000000  \n",
       "mean       0.70550        0.515100    100090.239881      0.203700  \n",
       "std        0.45584        0.499797     57510.492818      0.402769  \n",
       "min        0.00000        0.000000        11.580000      0.000000  \n",
       "25%        0.00000        0.000000     51002.110000      0.000000  \n",
       "50%        1.00000        1.000000    100193.915000      0.000000  \n",
       "75%        1.00000        1.000000    149388.247500      0.000000  \n",
       "max        1.00000        1.000000    199992.480000      1.000000  "
      ]
     },
     "execution_count": 261,
     "metadata": {},
     "output_type": "execute_result"
    }
   ],
   "source": [
    "df.describe()"
   ]
  },
  {
   "cell_type": "code",
   "execution_count": 262,
   "id": "245ed3b6",
   "metadata": {},
   "outputs": [
    {
     "data": {
      "text/plain": [
       "<Axes: >"
      ]
     },
     "execution_count": 262,
     "metadata": {},
     "output_type": "execute_result"
    },
    {
     "data": {
      "image/png": "[encoded data removed]",
      "text/plain": [
       "<Figure size 640x480 with 1 Axes>"
      ]
     },
     "metadata": {},
     "output_type": "display_data"
    }
   ],
   "source": [
    "sns.boxplot(df.Balance)"
   ]
  },
  {
   "cell_type": "code",
   "execution_count": 263,
   "id": "4e265aff",
   "metadata": {},
   "outputs": [
    {
     "data": {
      "text/plain": [
       "Geography\n",
       "France     5014\n",
       "Germany    2509\n",
       "Spain      2477\n",
       "Name: count, dtype: int64"
      ]
     },
     "execution_count": 263,
     "metadata": {},
     "output_type": "execute_result"
    }
   ],
   "source": [
    "df.Geography.value_counts()"
   ]
  },
  {
   "cell_type": "markdown",
   "id": "e3dedc85",
   "metadata": {},
   "source": [
    "* 3 main countries are represented in the dataset"
   ]
  },
  {
   "cell_type": "code",
   "execution_count": 264,
   "id": "8450ebe5",
   "metadata": {},
   "outputs": [
    {
     "data": {
      "text/plain": [
       "Geography\n",
       "Germany    814\n",
       "France     810\n",
       "Spain      413\n",
       "Name: count, dtype: int64"
      ]
     },
     "execution_count": 264,
     "metadata": {},
     "output_type": "execute_result"
    }
   ],
   "source": [
    "df.Geography[df.Exited==1].value_counts()"
   ]
  },
  {
   "cell_type": "code",
   "execution_count": 265,
   "id": "484841c0",
   "metadata": {
    "scrolled": true
   },
   "outputs": [
    {
     "data": {
      "image/png": "[encoded data removed]",
      "text/plain": [
       "<Figure size 640x480 with 1 Axes>"
      ]
     },
     "metadata": {},
     "output_type": "display_data"
    }
   ],
   "source": [
    "df.Geography[df.Exited==1].value_counts().plot.bar(color = ['green','red','yellow']);\n",
    "plt.xticks(rotation = 0);"
   ]
  },
  {
   "cell_type": "markdown",
   "id": "a832d1e4",
   "metadata": {},
   "source": [
    "* When comparing the countries under the condition of a customer exiting,Germans are more likely to exit"
   ]
  },
  {
   "cell_type": "code",
   "execution_count": 266,
   "id": "07db2149",
   "metadata": {},
   "outputs": [
    {
     "data": {
      "text/plain": [
       "Geography\n",
       "France     4204\n",
       "Spain      2064\n",
       "Germany    1695\n",
       "Name: count, dtype: int64"
      ]
     },
     "execution_count": 266,
     "metadata": {},
     "output_type": "execute_result"
    }
   ],
   "source": [
    "df.Geography[df.Exited==0].value_counts()"
   ]
  },
  {
   "cell_type": "code",
   "execution_count": 267,
   "id": "b264310c",
   "metadata": {},
   "outputs": [
    {
     "data": {
      "image/png": "[encoded data removed]",
      "text/plain": [
       "<Figure size 640x480 with 1 Axes>"
      ]
     },
     "metadata": {},
     "output_type": "display_data"
    }
   ],
   "source": [
    "df.Geography[df.Exited==0].value_counts().plot.bar(color = ['green','red','yellow']);\n",
    "plt.xticks(rotation = 0);"
   ]
  },
  {
   "cell_type": "markdown",
   "id": "401ea4bc",
   "metadata": {},
   "source": [
    "* When comparing the countries under the condition of a customer not exiting,Germans are more less likely to stay and the French are most likely to stay"
   ]
  },
  {
   "cell_type": "code",
   "execution_count": 268,
   "id": "c0c58963",
   "metadata": {},
   "outputs": [
    {
     "data": {
      "text/plain": [
       "Gender\n",
       "Male      5457\n",
       "Female    4543\n",
       "Name: count, dtype: int64"
      ]
     },
     "execution_count": 268,
     "metadata": {},
     "output_type": "execute_result"
    }
   ],
   "source": [
    "df.Gender.value_counts()"
   ]
  },
  {
   "cell_type": "code",
   "execution_count": 269,
   "id": "6a5e0021",
   "metadata": {},
   "outputs": [
    {
     "data": {
      "text/plain": [
       "<Axes: xlabel='Gender'>"
      ]
     },
     "execution_count": 269,
     "metadata": {},
     "output_type": "execute_result"
    },
    {
     "data": {
      "image/png": "[encoded data removed]",
      "text/plain": [
       "<Figure size 640x480 with 1 Axes>"
      ]
     },
     "metadata": {},
     "output_type": "display_data"
    }
   ],
   "source": [
    "df.Gender.value_counts().plot.bar()"
   ]
  },
  {
   "cell_type": "markdown",
   "id": "4639902a",
   "metadata": {},
   "source": [
    "* There are more male customers in the dataset "
   ]
  },
  {
   "cell_type": "code",
   "execution_count": 270,
   "id": "56b6d39e",
   "metadata": {},
   "outputs": [
    {
     "data": {
      "text/plain": [
       "Gender\n",
       "Female    1139\n",
       "Male       898\n",
       "Name: count, dtype: int64"
      ]
     },
     "execution_count": 270,
     "metadata": {},
     "output_type": "execute_result"
    }
   ],
   "source": [
    "df.Gender[df.Exited==1].value_counts()"
   ]
  },
  {
   "cell_type": "markdown",
   "id": "c6511e66",
   "metadata": {},
   "source": [
    "* Of all those that exited, the number of females exceeded that of males(Proving once again that women will leave you)"
   ]
  },
  {
   "cell_type": "code",
   "execution_count": 271,
   "id": "d61a9628",
   "metadata": {},
   "outputs": [
    {
     "data": {
      "text/plain": [
       "Gender\n",
       "Male      4559\n",
       "Female    3404\n",
       "Name: count, dtype: int64"
      ]
     },
     "execution_count": 271,
     "metadata": {},
     "output_type": "execute_result"
    }
   ],
   "source": [
    "df.Gender[df.Exited==0].value_counts()"
   ]
  },
  {
   "cell_type": "markdown",
   "id": "c3457e40",
   "metadata": {},
   "source": [
    "* More males stayed"
   ]
  },
  {
   "cell_type": "markdown",
   "id": "5f605175",
   "metadata": {},
   "source": [
    "#### Age vs Estimated salary"
   ]
  },
  {
   "cell_type": "code",
   "execution_count": 272,
   "id": "c39a7a8c",
   "metadata": {},
   "outputs": [
    {
     "data": {
      "text/plain": [
       "<matplotlib.collections.PathCollection at 0x24a076fe210>"
      ]
     },
     "execution_count": 272,
     "metadata": {},
     "output_type": "execute_result"
    },
    {
     "data": {
      "image/png": "[encoded data removed]",
      "text/plain": [
       "<Figure size 1000x600 with 1 Axes>"
      ]
     },
     "metadata": {},
     "output_type": "display_data"
    }
   ],
   "source": [
    "plt.figure(figsize =(10,6))\n",
    "plt.scatter(df.EstimatedSalary[df.Exited==0],df.Age[df.Exited==0])\n",
    "plt.scatter(df.EstimatedSalary[df.Exited==1],df.Age[df.Exited==1],c='red')"
   ]
  },
  {
   "cell_type": "markdown",
   "id": "5b3ed6f6",
   "metadata": {},
   "source": [
    "* There aren't many visible trends in the scatter plot"
   ]
  },
  {
   "cell_type": "markdown",
   "id": "4f044d17",
   "metadata": {},
   "source": [
    "#### Balance vs Estimated salary"
   ]
  },
  {
   "cell_type": "code",
   "execution_count": 273,
   "id": "1d7752b7",
   "metadata": {},
   "outputs": [
    {
     "data": {
      "text/plain": [
       "<matplotlib.collections.PathCollection at 0x24a07588a50>"
      ]
     },
     "execution_count": 273,
     "metadata": {},
     "output_type": "execute_result"
    },
    {
     "data": {
      "image/png": "[encoded data removed]",
      "text/plain": [
       "<Figure size 1000x600 with 1 Axes>"
      ]
     },
     "metadata": {},
     "output_type": "display_data"
    }
   ],
   "source": [
    "plt.figure(figsize=(10,6))\n",
    "plt.scatter(df.Balance[df.Exited==0],df.EstimatedSalary[df.Exited==0])\n",
    "plt.scatter(df.Balance[df.Exited==1],df.EstimatedSalary[df.Exited==1],c='red')\n"
   ]
  },
  {
   "cell_type": "markdown",
   "id": "8f9965b0",
   "metadata": {},
   "source": [
    "* There aren't many visible trends in the scatter plot"
   ]
  },
  {
   "cell_type": "code",
   "execution_count": 274,
   "id": "0483cb13",
   "metadata": {},
   "outputs": [
    {
     "name": "stderr",
     "output_type": "stream",
     "text": [
      "C:\\Users\\OLU-JUNAID & CO\\AppData\\Local\\Temp\\ipykernel_10352\\4062876804.py:1: UserWarning: \n",
      "\n",
      "`distplot` is a deprecated function and will be removed in seaborn v0.14.0.\n",
      "\n",
      "Please adapt your code to use either `displot` (a figure-level function with\n",
      "similar flexibility) or `histplot` (an axes-level function for histograms).\n",
      "\n",
      "For a guide to updating your code to use the new functions, please see\n",
      "https://gist.github.com/mwaskom/de44147ed2974457ad6372750bbe5751\n",
      "\n",
      "  sns.distplot(df.CreditScore)\n"
     ]
    },
    {
     "data": {
      "text/plain": [
       "<Axes: xlabel='CreditScore', ylabel='Density'>"
      ]
     },
     "execution_count": 274,
     "metadata": {},
     "output_type": "execute_result"
    },
    {
     "data": {
      "image/png": "[encoded data removed]",
      "text/plain": [
       "<Figure size 640x480 with 1 Axes>"
      ]
     },
     "metadata": {},
     "output_type": "display_data"
    }
   ],
   "source": [
    "sns.distplot(df.CreditScore)"
   ]
  },
  {
   "cell_type": "code",
   "execution_count": 275,
   "id": "f3567698",
   "metadata": {},
   "outputs": [
    {
     "data": {
      "text/plain": [
       "<matplotlib.collections.PathCollection at 0x24a08d5df10>"
      ]
     },
     "execution_count": 275,
     "metadata": {},
     "output_type": "execute_result"
    },
    {
     "data": {
      "image/png": "[encoded data removed]",
      "text/plain": [
       "<Figure size 640x480 with 1 Axes>"
      ]
     },
     "metadata": {},
     "output_type": "display_data"
    }
   ],
   "source": [
    "plt.scatter(df.CreditScore,df.EstimatedSalary)"
   ]
  },
  {
   "cell_type": "markdown",
   "id": "9df827ba",
   "metadata": {},
   "source": [
    "#### Feature engineering"
   ]
  },
  {
   "cell_type": "code",
   "execution_count": 279,
   "id": "c375bdb0",
   "metadata": {},
   "outputs": [],
   "source": [
    "df['salary_per_credit'] = df.EstimatedSalary/df.CreditScore\n",
    "df['salary_per_age'] = df.EstimatedSalary/df.Age\n",
    "df['salary_per_products'] = df.EstimatedSalary/df.NumOfProducts\n",
    "df['credit_per_age'] = df.CreditScore/df.Age\n",
    "df['products_per_age'] = df.NumOfProducts/df.Age\n",
    "df['credit_per_product']= df.CreditScore/df.NumOfProducts\n",
    "df['Balance_per_age'] = df.Balance/df.Age\n",
    "df['balance_and_age'] = df.Balance*df.Age\n",
    "df['salary_and_age'] = df.EstimatedSalary*df.Age\n",
    "df['credit_and_age'] = df.CreditScore*df.Age\n",
    "df['salary_and_products'] = df.EstimatedSalary*df.NumOfProducts"
   ]
  },
  {
   "cell_type": "code",
   "execution_count": 280,
   "id": "bedf8c30",
   "metadata": {},
   "outputs": [
    {
     "data": {
      "text/html": [
       "<div>\n",
       "<style scoped>\n",
       "    .dataframe tbody tr th:only-of-type {\n",
       "        vertical-align: middle;\n",
       "    }\n",
       "\n",
       "    .dataframe tbody tr th {\n",
       "        vertical-align: top;\n",
       "    }\n",
       "\n",
       "    .dataframe thead th {\n",
       "        text-align: right;\n",
       "    }\n",
       "</style>\n",
       "<table border=\"1\" class=\"dataframe\">\n",
       "  <thead>\n",
       "    <tr style=\"text-align: right;\">\n",
       "      <th></th>\n",
       "      <th>CreditScore</th>\n",
       "      <th>Age</th>\n",
       "      <th>Tenure</th>\n",
       "      <th>Balance</th>\n",
       "      <th>NumOfProducts</th>\n",
       "      <th>HasCrCard</th>\n",
       "      <th>IsActiveMember</th>\n",
       "      <th>EstimatedSalary</th>\n",
       "      <th>Exited</th>\n",
       "      <th>salary_per_credit</th>\n",
       "      <th>salary_per_age</th>\n",
       "      <th>salary_per_products</th>\n",
       "      <th>credit_per_age</th>\n",
       "      <th>products_per_age</th>\n",
       "      <th>credit_per_product</th>\n",
       "      <th>Balance_per_age</th>\n",
       "      <th>balance_and_age</th>\n",
       "      <th>salary_and_age</th>\n",
       "      <th>credit_and_age</th>\n",
       "      <th>salary_and_products</th>\n",
       "    </tr>\n",
       "  </thead>\n",
       "  <tbody>\n",
       "    <tr>\n",
       "      <th>count</th>\n",
       "      <td>10000.000000</td>\n",
       "      <td>10000.000000</td>\n",
       "      <td>10000.000000</td>\n",
       "      <td>10000.000000</td>\n",
       "      <td>10000.000000</td>\n",
       "      <td>10000.00000</td>\n",
       "      <td>10000.000000</td>\n",
       "      <td>10000.000000</td>\n",
       "      <td>10000.000000</td>\n",
       "      <td>10000.000000</td>\n",
       "      <td>10000.000000</td>\n",
       "      <td>10000.000000</td>\n",
       "      <td>10000.000000</td>\n",
       "      <td>10000.000000</td>\n",
       "      <td>10000.000000</td>\n",
       "      <td>10000.000000</td>\n",
       "      <td>1.000000e+04</td>\n",
       "      <td>1.000000e+04</td>\n",
       "      <td>10000.000000</td>\n",
       "      <td>10000.000000</td>\n",
       "    </tr>\n",
       "    <tr>\n",
       "      <th>mean</th>\n",
       "      <td>650.528800</td>\n",
       "      <td>38.921800</td>\n",
       "      <td>5.012800</td>\n",
       "      <td>76485.889288</td>\n",
       "      <td>1.530200</td>\n",
       "      <td>0.70550</td>\n",
       "      <td>0.515100</td>\n",
       "      <td>100090.239881</td>\n",
       "      <td>0.203700</td>\n",
       "      <td>157.577626</td>\n",
       "      <td>2751.423520</td>\n",
       "      <td>74715.158001</td>\n",
       "      <td>17.874340</td>\n",
       "      <td>0.042145</td>\n",
       "      <td>486.417308</td>\n",
       "      <td>2087.543881</td>\n",
       "      <td>2.995492e+06</td>\n",
       "      <td>3.891349e+06</td>\n",
       "      <td>25315.733100</td>\n",
       "      <td>153633.185332</td>\n",
       "    </tr>\n",
       "    <tr>\n",
       "      <th>std</th>\n",
       "      <td>96.653299</td>\n",
       "      <td>10.487806</td>\n",
       "      <td>2.892174</td>\n",
       "      <td>62397.405202</td>\n",
       "      <td>0.581654</td>\n",
       "      <td>0.45584</td>\n",
       "      <td>0.499797</td>\n",
       "      <td>57510.492818</td>\n",
       "      <td>0.402769</td>\n",
       "      <td>95.077457</td>\n",
       "      <td>1786.664851</td>\n",
       "      <td>52058.899406</td>\n",
       "      <td>5.376363</td>\n",
       "      <td>0.019472</td>\n",
       "      <td>183.636877</td>\n",
       "      <td>1844.914722</td>\n",
       "      <td>2.646813e+06</td>\n",
       "      <td>2.530422e+06</td>\n",
       "      <td>7868.836264</td>\n",
       "      <td>111644.487396</td>\n",
       "    </tr>\n",
       "    <tr>\n",
       "      <th>min</th>\n",
       "      <td>350.000000</td>\n",
       "      <td>18.000000</td>\n",
       "      <td>0.000000</td>\n",
       "      <td>0.000000</td>\n",
       "      <td>1.000000</td>\n",
       "      <td>0.00000</td>\n",
       "      <td>0.000000</td>\n",
       "      <td>11.580000</td>\n",
       "      <td>0.000000</td>\n",
       "      <td>0.016333</td>\n",
       "      <td>0.257333</td>\n",
       "      <td>11.580000</td>\n",
       "      <td>4.857143</td>\n",
       "      <td>0.010870</td>\n",
       "      <td>94.000000</td>\n",
       "      <td>0.000000</td>\n",
       "      <td>0.000000e+00</td>\n",
       "      <td>5.211000e+02</td>\n",
       "      <td>8968.000000</td>\n",
       "      <td>11.580000</td>\n",
       "    </tr>\n",
       "    <tr>\n",
       "      <th>25%</th>\n",
       "      <td>584.000000</td>\n",
       "      <td>32.000000</td>\n",
       "      <td>3.000000</td>\n",
       "      <td>0.000000</td>\n",
       "      <td>1.000000</td>\n",
       "      <td>0.00000</td>\n",
       "      <td>0.000000</td>\n",
       "      <td>51002.110000</td>\n",
       "      <td>0.000000</td>\n",
       "      <td>78.060414</td>\n",
       "      <td>1315.889646</td>\n",
       "      <td>32589.780000</td>\n",
       "      <td>14.088889</td>\n",
       "      <td>0.026316</td>\n",
       "      <td>323.000000</td>\n",
       "      <td>0.000000</td>\n",
       "      <td>0.000000e+00</td>\n",
       "      <td>1.872521e+06</td>\n",
       "      <td>19908.000000</td>\n",
       "      <td>67998.187500</td>\n",
       "    </tr>\n",
       "    <tr>\n",
       "      <th>50%</th>\n",
       "      <td>652.000000</td>\n",
       "      <td>37.000000</td>\n",
       "      <td>5.000000</td>\n",
       "      <td>97198.540000</td>\n",
       "      <td>1.000000</td>\n",
       "      <td>1.00000</td>\n",
       "      <td>1.000000</td>\n",
       "      <td>100193.915000</td>\n",
       "      <td>0.000000</td>\n",
       "      <td>154.484366</td>\n",
       "      <td>2535.833404</td>\n",
       "      <td>65908.002500</td>\n",
       "      <td>17.285714</td>\n",
       "      <td>0.037037</td>\n",
       "      <td>443.000000</td>\n",
       "      <td>2315.579783</td>\n",
       "      <td>3.360211e+06</td>\n",
       "      <td>3.659220e+06</td>\n",
       "      <td>24177.000000</td>\n",
       "      <td>132555.345000</td>\n",
       "    </tr>\n",
       "    <tr>\n",
       "      <th>75%</th>\n",
       "      <td>718.000000</td>\n",
       "      <td>44.000000</td>\n",
       "      <td>7.000000</td>\n",
       "      <td>127644.240000</td>\n",
       "      <td>2.000000</td>\n",
       "      <td>1.00000</td>\n",
       "      <td>1.000000</td>\n",
       "      <td>149388.247500</td>\n",
       "      <td>0.000000</td>\n",
       "      <td>229.872646</td>\n",
       "      <td>3979.231707</td>\n",
       "      <td>100943.797500</td>\n",
       "      <td>20.961538</td>\n",
       "      <td>0.055556</td>\n",
       "      <td>653.000000</td>\n",
       "      <td>3450.945280</td>\n",
       "      <td>4.911035e+06</td>\n",
       "      <td>5.543942e+06</td>\n",
       "      <td>29295.000000</td>\n",
       "      <td>203884.897500</td>\n",
       "    </tr>\n",
       "    <tr>\n",
       "      <th>max</th>\n",
       "      <td>850.000000</td>\n",
       "      <td>92.000000</td>\n",
       "      <td>10.000000</td>\n",
       "      <td>250898.090000</td>\n",
       "      <td>4.000000</td>\n",
       "      <td>1.00000</td>\n",
       "      <td>1.000000</td>\n",
       "      <td>199992.480000</td>\n",
       "      <td>1.000000</td>\n",
       "      <td>548.495686</td>\n",
       "      <td>10962.340556</td>\n",
       "      <td>199970.740000</td>\n",
       "      <td>46.888889</td>\n",
       "      <td>0.142857</td>\n",
       "      <td>850.000000</td>\n",
       "      <td>10211.151500</td>\n",
       "      <td>1.379695e+07</td>\n",
       "      <td>1.799189e+07</td>\n",
       "      <td>69276.000000</td>\n",
       "      <td>795498.080000</td>\n",
       "    </tr>\n",
       "  </tbody>\n",
       "</table>\n",
       "</div>"
      ],
      "text/plain": [
       "        CreditScore           Age        Tenure        Balance  NumOfProducts  \\\n",
       "count  10000.000000  10000.000000  10000.000000   10000.000000   10000.000000   \n",
       "mean     650.528800     38.921800      5.012800   76485.889288       1.530200   \n",
       "std       96.653299     10.487806      2.892174   62397.405202       0.581654   \n",
       "min      350.000000     18.000000      0.000000       0.000000       1.000000   \n",
       "25%      584.000000     32.000000      3.000000       0.000000       1.000000   \n",
       "50%      652.000000     37.000000      5.000000   97198.540000       1.000000   \n",
       "75%      718.000000     44.000000      7.000000  127644.240000       2.000000   \n",
       "max      850.000000     92.000000     10.000000  250898.090000       4.000000   \n",
       "\n",
       "         HasCrCard  IsActiveMember  EstimatedSalary        Exited  \\\n",
       "count  10000.00000    10000.000000     10000.000000  10000.000000   \n",
       "mean       0.70550        0.515100    100090.239881      0.203700   \n",
       "std        0.45584        0.499797     57510.492818      0.402769   \n",
       "min        0.00000        0.000000        11.580000      0.000000   \n",
       "25%        0.00000        0.000000     51002.110000      0.000000   \n",
       "50%        1.00000        1.000000    100193.915000      0.000000   \n",
       "75%        1.00000        1.000000    149388.247500      0.000000   \n",
       "max        1.00000        1.000000    199992.480000      1.000000   \n",
       "\n",
       "       salary_per_credit  salary_per_age  salary_per_products  credit_per_age  \\\n",
       "count       10000.000000    10000.000000         10000.000000    10000.000000   \n",
       "mean          157.577626     2751.423520         74715.158001       17.874340   \n",
       "std            95.077457     1786.664851         52058.899406        5.376363   \n",
       "min             0.016333        0.257333            11.580000        4.857143   \n",
       "25%            78.060414     1315.889646         32589.780000       14.088889   \n",
       "50%           154.484366     2535.833404         65908.002500       17.285714   \n",
       "75%           229.872646     3979.231707        100943.797500       20.961538   \n",
       "max           548.495686    10962.340556        199970.740000       46.888889   \n",
       "\n",
       "       products_per_age  credit_per_product  Balance_per_age  balance_and_age  \\\n",
       "count      10000.000000        10000.000000     10000.000000     1.000000e+04   \n",
       "mean           0.042145          486.417308      2087.543881     2.995492e+06   \n",
       "std            0.019472          183.636877      1844.914722     2.646813e+06   \n",
       "min            0.010870           94.000000         0.000000     0.000000e+00   \n",
       "25%            0.026316          323.000000         0.000000     0.000000e+00   \n",
       "50%            0.037037          443.000000      2315.579783     3.360211e+06   \n",
       "75%            0.055556          653.000000      3450.945280     4.911035e+06   \n",
       "max            0.142857          850.000000     10211.151500     1.379695e+07   \n",
       "\n",
       "       salary_and_age  credit_and_age  salary_and_products  \n",
       "count    1.000000e+04    10000.000000         10000.000000  \n",
       "mean     3.891349e+06    25315.733100        153633.185332  \n",
       "std      2.530422e+06     7868.836264        111644.487396  \n",
       "min      5.211000e+02     8968.000000            11.580000  \n",
       "25%      1.872521e+06    19908.000000         67998.187500  \n",
       "50%      3.659220e+06    24177.000000        132555.345000  \n",
       "75%      5.543942e+06    29295.000000        203884.897500  \n",
       "max      1.799189e+07    69276.000000        795498.080000  "
      ]
     },
     "execution_count": 280,
     "metadata": {},
     "output_type": "execute_result"
    }
   ],
   "source": [
    "df.describe()"
   ]
  },
  {
   "cell_type": "code",
   "execution_count": 281,
   "id": "85492b02",
   "metadata": {},
   "outputs": [],
   "source": [
    "df1 = df.copy()"
   ]
  },
  {
   "cell_type": "code",
   "execution_count": 282,
   "id": "336eab0d",
   "metadata": {},
   "outputs": [
    {
     "data": {
      "text/html": [
       "<div>\n",
       "<style scoped>\n",
       "    .dataframe tbody tr th:only-of-type {\n",
       "        vertical-align: middle;\n",
       "    }\n",
       "\n",
       "    .dataframe tbody tr th {\n",
       "        vertical-align: top;\n",
       "    }\n",
       "\n",
       "    .dataframe thead th {\n",
       "        text-align: right;\n",
       "    }\n",
       "</style>\n",
       "<table border=\"1\" class=\"dataframe\">\n",
       "  <thead>\n",
       "    <tr style=\"text-align: right;\">\n",
       "      <th></th>\n",
       "      <th>Surname</th>\n",
       "      <th>CreditScore</th>\n",
       "      <th>Geography</th>\n",
       "      <th>Gender</th>\n",
       "      <th>Age</th>\n",
       "      <th>Tenure</th>\n",
       "      <th>Balance</th>\n",
       "      <th>NumOfProducts</th>\n",
       "      <th>HasCrCard</th>\n",
       "      <th>IsActiveMember</th>\n",
       "      <th>...</th>\n",
       "      <th>salary_per_age</th>\n",
       "      <th>salary_per_products</th>\n",
       "      <th>credit_per_age</th>\n",
       "      <th>products_per_age</th>\n",
       "      <th>credit_per_product</th>\n",
       "      <th>Balance_per_age</th>\n",
       "      <th>balance_and_age</th>\n",
       "      <th>salary_and_age</th>\n",
       "      <th>credit_and_age</th>\n",
       "      <th>salary_and_products</th>\n",
       "    </tr>\n",
       "  </thead>\n",
       "  <tbody>\n",
       "    <tr>\n",
       "      <th>0</th>\n",
       "      <td>Hargrave</td>\n",
       "      <td>619</td>\n",
       "      <td>France</td>\n",
       "      <td>Female</td>\n",
       "      <td>42</td>\n",
       "      <td>2</td>\n",
       "      <td>0.00</td>\n",
       "      <td>1</td>\n",
       "      <td>1</td>\n",
       "      <td>1</td>\n",
       "      <td>...</td>\n",
       "      <td>2413.068571</td>\n",
       "      <td>101348.880</td>\n",
       "      <td>14.738095</td>\n",
       "      <td>0.023810</td>\n",
       "      <td>619.000000</td>\n",
       "      <td>0.000000</td>\n",
       "      <td>0.00</td>\n",
       "      <td>4256652.96</td>\n",
       "      <td>25998</td>\n",
       "      <td>101348.88</td>\n",
       "    </tr>\n",
       "    <tr>\n",
       "      <th>1</th>\n",
       "      <td>Hill</td>\n",
       "      <td>608</td>\n",
       "      <td>Spain</td>\n",
       "      <td>Female</td>\n",
       "      <td>41</td>\n",
       "      <td>1</td>\n",
       "      <td>83807.86</td>\n",
       "      <td>1</td>\n",
       "      <td>0</td>\n",
       "      <td>1</td>\n",
       "      <td>...</td>\n",
       "      <td>2744.940976</td>\n",
       "      <td>112542.580</td>\n",
       "      <td>14.829268</td>\n",
       "      <td>0.024390</td>\n",
       "      <td>608.000000</td>\n",
       "      <td>2044.094146</td>\n",
       "      <td>3436122.26</td>\n",
       "      <td>4614245.78</td>\n",
       "      <td>24928</td>\n",
       "      <td>112542.58</td>\n",
       "    </tr>\n",
       "    <tr>\n",
       "      <th>2</th>\n",
       "      <td>Onio</td>\n",
       "      <td>502</td>\n",
       "      <td>France</td>\n",
       "      <td>Female</td>\n",
       "      <td>42</td>\n",
       "      <td>8</td>\n",
       "      <td>159660.80</td>\n",
       "      <td>3</td>\n",
       "      <td>1</td>\n",
       "      <td>0</td>\n",
       "      <td>...</td>\n",
       "      <td>2712.656429</td>\n",
       "      <td>37977.190</td>\n",
       "      <td>11.952381</td>\n",
       "      <td>0.071429</td>\n",
       "      <td>167.333333</td>\n",
       "      <td>3801.447619</td>\n",
       "      <td>6705753.60</td>\n",
       "      <td>4785125.94</td>\n",
       "      <td>21084</td>\n",
       "      <td>341794.71</td>\n",
       "    </tr>\n",
       "    <tr>\n",
       "      <th>3</th>\n",
       "      <td>Boni</td>\n",
       "      <td>699</td>\n",
       "      <td>France</td>\n",
       "      <td>Female</td>\n",
       "      <td>39</td>\n",
       "      <td>1</td>\n",
       "      <td>0.00</td>\n",
       "      <td>2</td>\n",
       "      <td>0</td>\n",
       "      <td>0</td>\n",
       "      <td>...</td>\n",
       "      <td>2405.811026</td>\n",
       "      <td>46913.315</td>\n",
       "      <td>17.923077</td>\n",
       "      <td>0.051282</td>\n",
       "      <td>349.500000</td>\n",
       "      <td>0.000000</td>\n",
       "      <td>0.00</td>\n",
       "      <td>3659238.57</td>\n",
       "      <td>27261</td>\n",
       "      <td>187653.26</td>\n",
       "    </tr>\n",
       "    <tr>\n",
       "      <th>4</th>\n",
       "      <td>Mitchell</td>\n",
       "      <td>850</td>\n",
       "      <td>Spain</td>\n",
       "      <td>Female</td>\n",
       "      <td>43</td>\n",
       "      <td>2</td>\n",
       "      <td>125510.82</td>\n",
       "      <td>1</td>\n",
       "      <td>1</td>\n",
       "      <td>1</td>\n",
       "      <td>...</td>\n",
       "      <td>1839.165116</td>\n",
       "      <td>79084.100</td>\n",
       "      <td>19.767442</td>\n",
       "      <td>0.023256</td>\n",
       "      <td>850.000000</td>\n",
       "      <td>2918.856279</td>\n",
       "      <td>5396965.26</td>\n",
       "      <td>3400616.30</td>\n",
       "      <td>36550</td>\n",
       "      <td>79084.10</td>\n",
       "    </tr>\n",
       "    <tr>\n",
       "      <th>...</th>\n",
       "      <td>...</td>\n",
       "      <td>...</td>\n",
       "      <td>...</td>\n",
       "      <td>...</td>\n",
       "      <td>...</td>\n",
       "      <td>...</td>\n",
       "      <td>...</td>\n",
       "      <td>...</td>\n",
       "      <td>...</td>\n",
       "      <td>...</td>\n",
       "      <td>...</td>\n",
       "      <td>...</td>\n",
       "      <td>...</td>\n",
       "      <td>...</td>\n",
       "      <td>...</td>\n",
       "      <td>...</td>\n",
       "      <td>...</td>\n",
       "      <td>...</td>\n",
       "      <td>...</td>\n",
       "      <td>...</td>\n",
       "      <td>...</td>\n",
       "    </tr>\n",
       "    <tr>\n",
       "      <th>9995</th>\n",
       "      <td>Obijiaku</td>\n",
       "      <td>771</td>\n",
       "      <td>France</td>\n",
       "      <td>Male</td>\n",
       "      <td>39</td>\n",
       "      <td>5</td>\n",
       "      <td>0.00</td>\n",
       "      <td>2</td>\n",
       "      <td>1</td>\n",
       "      <td>0</td>\n",
       "      <td>...</td>\n",
       "      <td>2468.477949</td>\n",
       "      <td>48135.320</td>\n",
       "      <td>19.769231</td>\n",
       "      <td>0.051282</td>\n",
       "      <td>385.500000</td>\n",
       "      <td>0.000000</td>\n",
       "      <td>0.00</td>\n",
       "      <td>3754554.96</td>\n",
       "      <td>30069</td>\n",
       "      <td>192541.28</td>\n",
       "    </tr>\n",
       "    <tr>\n",
       "      <th>9996</th>\n",
       "      <td>Johnstone</td>\n",
       "      <td>516</td>\n",
       "      <td>France</td>\n",
       "      <td>Male</td>\n",
       "      <td>35</td>\n",
       "      <td>10</td>\n",
       "      <td>57369.61</td>\n",
       "      <td>1</td>\n",
       "      <td>1</td>\n",
       "      <td>1</td>\n",
       "      <td>...</td>\n",
       "      <td>2905.707714</td>\n",
       "      <td>101699.770</td>\n",
       "      <td>14.742857</td>\n",
       "      <td>0.028571</td>\n",
       "      <td>516.000000</td>\n",
       "      <td>1639.131714</td>\n",
       "      <td>2007936.35</td>\n",
       "      <td>3559491.95</td>\n",
       "      <td>18060</td>\n",
       "      <td>101699.77</td>\n",
       "    </tr>\n",
       "    <tr>\n",
       "      <th>9997</th>\n",
       "      <td>Liu</td>\n",
       "      <td>709</td>\n",
       "      <td>France</td>\n",
       "      <td>Female</td>\n",
       "      <td>36</td>\n",
       "      <td>7</td>\n",
       "      <td>0.00</td>\n",
       "      <td>1</td>\n",
       "      <td>0</td>\n",
       "      <td>1</td>\n",
       "      <td>...</td>\n",
       "      <td>1169.043889</td>\n",
       "      <td>42085.580</td>\n",
       "      <td>19.694444</td>\n",
       "      <td>0.027778</td>\n",
       "      <td>709.000000</td>\n",
       "      <td>0.000000</td>\n",
       "      <td>0.00</td>\n",
       "      <td>1515080.88</td>\n",
       "      <td>25524</td>\n",
       "      <td>42085.58</td>\n",
       "    </tr>\n",
       "    <tr>\n",
       "      <th>9998</th>\n",
       "      <td>Sabbatini</td>\n",
       "      <td>772</td>\n",
       "      <td>Germany</td>\n",
       "      <td>Male</td>\n",
       "      <td>42</td>\n",
       "      <td>3</td>\n",
       "      <td>75075.31</td>\n",
       "      <td>2</td>\n",
       "      <td>1</td>\n",
       "      <td>0</td>\n",
       "      <td>...</td>\n",
       "      <td>2211.631429</td>\n",
       "      <td>46444.260</td>\n",
       "      <td>18.380952</td>\n",
       "      <td>0.047619</td>\n",
       "      <td>386.000000</td>\n",
       "      <td>1787.507381</td>\n",
       "      <td>3153163.02</td>\n",
       "      <td>3901317.84</td>\n",
       "      <td>32424</td>\n",
       "      <td>185777.04</td>\n",
       "    </tr>\n",
       "    <tr>\n",
       "      <th>9999</th>\n",
       "      <td>Walker</td>\n",
       "      <td>792</td>\n",
       "      <td>France</td>\n",
       "      <td>Female</td>\n",
       "      <td>28</td>\n",
       "      <td>4</td>\n",
       "      <td>130142.79</td>\n",
       "      <td>1</td>\n",
       "      <td>1</td>\n",
       "      <td>0</td>\n",
       "      <td>...</td>\n",
       "      <td>1363.956429</td>\n",
       "      <td>38190.780</td>\n",
       "      <td>28.285714</td>\n",
       "      <td>0.035714</td>\n",
       "      <td>792.000000</td>\n",
       "      <td>4647.956786</td>\n",
       "      <td>3643998.12</td>\n",
       "      <td>1069341.84</td>\n",
       "      <td>22176</td>\n",
       "      <td>38190.78</td>\n",
       "    </tr>\n",
       "  </tbody>\n",
       "</table>\n",
       "<p>10000 rows × 23 columns</p>\n",
       "</div>"
      ],
      "text/plain": [
       "        Surname  CreditScore Geography  Gender  Age  Tenure    Balance  \\\n",
       "0      Hargrave          619    France  Female   42       2       0.00   \n",
       "1          Hill          608     Spain  Female   41       1   83807.86   \n",
       "2          Onio          502    France  Female   42       8  159660.80   \n",
       "3          Boni          699    France  Female   39       1       0.00   \n",
       "4      Mitchell          850     Spain  Female   43       2  125510.82   \n",
       "...         ...          ...       ...     ...  ...     ...        ...   \n",
       "9995   Obijiaku          771    France    Male   39       5       0.00   \n",
       "9996  Johnstone          516    France    Male   35      10   57369.61   \n",
       "9997        Liu          709    France  Female   36       7       0.00   \n",
       "9998  Sabbatini          772   Germany    Male   42       3   75075.31   \n",
       "9999     Walker          792    France  Female   28       4  130142.79   \n",
       "\n",
       "      NumOfProducts  HasCrCard  IsActiveMember  ...  salary_per_age  \\\n",
       "0                 1          1               1  ...     2413.068571   \n",
       "1                 1          0               1  ...     2744.940976   \n",
       "2                 3          1               0  ...     2712.656429   \n",
       "3                 2          0               0  ...     2405.811026   \n",
       "4                 1          1               1  ...     1839.165116   \n",
       "...             ...        ...             ...  ...             ...   \n",
       "9995              2          1               0  ...     2468.477949   \n",
       "9996              1          1               1  ...     2905.707714   \n",
       "9997              1          0               1  ...     1169.043889   \n",
       "9998              2          1               0  ...     2211.631429   \n",
       "9999              1          1               0  ...     1363.956429   \n",
       "\n",
       "      salary_per_products  credit_per_age  products_per_age  \\\n",
       "0              101348.880       14.738095          0.023810   \n",
       "1              112542.580       14.829268          0.024390   \n",
       "2               37977.190       11.952381          0.071429   \n",
       "3               46913.315       17.923077          0.051282   \n",
       "4               79084.100       19.767442          0.023256   \n",
       "...                   ...             ...               ...   \n",
       "9995            48135.320       19.769231          0.051282   \n",
       "9996           101699.770       14.742857          0.028571   \n",
       "9997            42085.580       19.694444          0.027778   \n",
       "9998            46444.260       18.380952          0.047619   \n",
       "9999            38190.780       28.285714          0.035714   \n",
       "\n",
       "      credit_per_product  Balance_per_age  balance_and_age  salary_and_age  \\\n",
       "0             619.000000         0.000000             0.00      4256652.96   \n",
       "1             608.000000      2044.094146       3436122.26      4614245.78   \n",
       "2             167.333333      3801.447619       6705753.60      4785125.94   \n",
       "3             349.500000         0.000000             0.00      3659238.57   \n",
       "4             850.000000      2918.856279       5396965.26      3400616.30   \n",
       "...                  ...              ...              ...             ...   \n",
       "9995          385.500000         0.000000             0.00      3754554.96   \n",
       "9996          516.000000      1639.131714       2007936.35      3559491.95   \n",
       "9997          709.000000         0.000000             0.00      1515080.88   \n",
       "9998          386.000000      1787.507381       3153163.02      3901317.84   \n",
       "9999          792.000000      4647.956786       3643998.12      1069341.84   \n",
       "\n",
       "      credit_and_age  salary_and_products  \n",
       "0              25998            101348.88  \n",
       "1              24928            112542.58  \n",
       "2              21084            341794.71  \n",
       "3              27261            187653.26  \n",
       "4              36550             79084.10  \n",
       "...              ...                  ...  \n",
       "9995           30069            192541.28  \n",
       "9996           18060            101699.77  \n",
       "9997           25524             42085.58  \n",
       "9998           32424            185777.04  \n",
       "9999           22176             38190.78  \n",
       "\n",
       "[10000 rows x 23 columns]"
      ]
     },
     "execution_count": 282,
     "metadata": {},
     "output_type": "execute_result"
    }
   ],
   "source": [
    "df1"
   ]
  },
  {
   "cell_type": "code",
   "execution_count": 283,
   "id": "e758cf6b",
   "metadata": {},
   "outputs": [],
   "source": [
    "#dropping the Surname column too\n",
    "df1.drop('Surname',axis = 1,inplace =True)"
   ]
  },
  {
   "cell_type": "code",
   "execution_count": 284,
   "id": "304e3ccf",
   "metadata": {
    "scrolled": true
   },
   "outputs": [
    {
     "data": {
      "text/html": [
       "<div>\n",
       "<style scoped>\n",
       "    .dataframe tbody tr th:only-of-type {\n",
       "        vertical-align: middle;\n",
       "    }\n",
       "\n",
       "    .dataframe tbody tr th {\n",
       "        vertical-align: top;\n",
       "    }\n",
       "\n",
       "    .dataframe thead th {\n",
       "        text-align: right;\n",
       "    }\n",
       "</style>\n",
       "<table border=\"1\" class=\"dataframe\">\n",
       "  <thead>\n",
       "    <tr style=\"text-align: right;\">\n",
       "      <th></th>\n",
       "      <th>CreditScore</th>\n",
       "      <th>Geography</th>\n",
       "      <th>Gender</th>\n",
       "      <th>Age</th>\n",
       "      <th>Tenure</th>\n",
       "      <th>Balance</th>\n",
       "      <th>NumOfProducts</th>\n",
       "      <th>HasCrCard</th>\n",
       "      <th>IsActiveMember</th>\n",
       "      <th>EstimatedSalary</th>\n",
       "      <th>...</th>\n",
       "      <th>salary_per_age</th>\n",
       "      <th>salary_per_products</th>\n",
       "      <th>credit_per_age</th>\n",
       "      <th>products_per_age</th>\n",
       "      <th>credit_per_product</th>\n",
       "      <th>Balance_per_age</th>\n",
       "      <th>balance_and_age</th>\n",
       "      <th>salary_and_age</th>\n",
       "      <th>credit_and_age</th>\n",
       "      <th>salary_and_products</th>\n",
       "    </tr>\n",
       "  </thead>\n",
       "  <tbody>\n",
       "    <tr>\n",
       "      <th>0</th>\n",
       "      <td>619</td>\n",
       "      <td>France</td>\n",
       "      <td>Female</td>\n",
       "      <td>42</td>\n",
       "      <td>2</td>\n",
       "      <td>0.00</td>\n",
       "      <td>1</td>\n",
       "      <td>1</td>\n",
       "      <td>1</td>\n",
       "      <td>101348.88</td>\n",
       "      <td>...</td>\n",
       "      <td>2413.068571</td>\n",
       "      <td>101348.880</td>\n",
       "      <td>14.738095</td>\n",
       "      <td>0.023810</td>\n",
       "      <td>619.000000</td>\n",
       "      <td>0.000000</td>\n",
       "      <td>0.00</td>\n",
       "      <td>4256652.96</td>\n",
       "      <td>25998</td>\n",
       "      <td>101348.88</td>\n",
       "    </tr>\n",
       "    <tr>\n",
       "      <th>1</th>\n",
       "      <td>608</td>\n",
       "      <td>Spain</td>\n",
       "      <td>Female</td>\n",
       "      <td>41</td>\n",
       "      <td>1</td>\n",
       "      <td>83807.86</td>\n",
       "      <td>1</td>\n",
       "      <td>0</td>\n",
       "      <td>1</td>\n",
       "      <td>112542.58</td>\n",
       "      <td>...</td>\n",
       "      <td>2744.940976</td>\n",
       "      <td>112542.580</td>\n",
       "      <td>14.829268</td>\n",
       "      <td>0.024390</td>\n",
       "      <td>608.000000</td>\n",
       "      <td>2044.094146</td>\n",
       "      <td>3436122.26</td>\n",
       "      <td>4614245.78</td>\n",
       "      <td>24928</td>\n",
       "      <td>112542.58</td>\n",
       "    </tr>\n",
       "    <tr>\n",
       "      <th>2</th>\n",
       "      <td>502</td>\n",
       "      <td>France</td>\n",
       "      <td>Female</td>\n",
       "      <td>42</td>\n",
       "      <td>8</td>\n",
       "      <td>159660.80</td>\n",
       "      <td>3</td>\n",
       "      <td>1</td>\n",
       "      <td>0</td>\n",
       "      <td>113931.57</td>\n",
       "      <td>...</td>\n",
       "      <td>2712.656429</td>\n",
       "      <td>37977.190</td>\n",
       "      <td>11.952381</td>\n",
       "      <td>0.071429</td>\n",
       "      <td>167.333333</td>\n",
       "      <td>3801.447619</td>\n",
       "      <td>6705753.60</td>\n",
       "      <td>4785125.94</td>\n",
       "      <td>21084</td>\n",
       "      <td>341794.71</td>\n",
       "    </tr>\n",
       "    <tr>\n",
       "      <th>3</th>\n",
       "      <td>699</td>\n",
       "      <td>France</td>\n",
       "      <td>Female</td>\n",
       "      <td>39</td>\n",
       "      <td>1</td>\n",
       "      <td>0.00</td>\n",
       "      <td>2</td>\n",
       "      <td>0</td>\n",
       "      <td>0</td>\n",
       "      <td>93826.63</td>\n",
       "      <td>...</td>\n",
       "      <td>2405.811026</td>\n",
       "      <td>46913.315</td>\n",
       "      <td>17.923077</td>\n",
       "      <td>0.051282</td>\n",
       "      <td>349.500000</td>\n",
       "      <td>0.000000</td>\n",
       "      <td>0.00</td>\n",
       "      <td>3659238.57</td>\n",
       "      <td>27261</td>\n",
       "      <td>187653.26</td>\n",
       "    </tr>\n",
       "    <tr>\n",
       "      <th>4</th>\n",
       "      <td>850</td>\n",
       "      <td>Spain</td>\n",
       "      <td>Female</td>\n",
       "      <td>43</td>\n",
       "      <td>2</td>\n",
       "      <td>125510.82</td>\n",
       "      <td>1</td>\n",
       "      <td>1</td>\n",
       "      <td>1</td>\n",
       "      <td>79084.10</td>\n",
       "      <td>...</td>\n",
       "      <td>1839.165116</td>\n",
       "      <td>79084.100</td>\n",
       "      <td>19.767442</td>\n",
       "      <td>0.023256</td>\n",
       "      <td>850.000000</td>\n",
       "      <td>2918.856279</td>\n",
       "      <td>5396965.26</td>\n",
       "      <td>3400616.30</td>\n",
       "      <td>36550</td>\n",
       "      <td>79084.10</td>\n",
       "    </tr>\n",
       "  </tbody>\n",
       "</table>\n",
       "<p>5 rows × 22 columns</p>\n",
       "</div>"
      ],
      "text/plain": [
       "   CreditScore Geography  Gender  Age  Tenure    Balance  NumOfProducts  \\\n",
       "0          619    France  Female   42       2       0.00              1   \n",
       "1          608     Spain  Female   41       1   83807.86              1   \n",
       "2          502    France  Female   42       8  159660.80              3   \n",
       "3          699    France  Female   39       1       0.00              2   \n",
       "4          850     Spain  Female   43       2  125510.82              1   \n",
       "\n",
       "   HasCrCard  IsActiveMember  EstimatedSalary  ...  salary_per_age  \\\n",
       "0          1               1        101348.88  ...     2413.068571   \n",
       "1          0               1        112542.58  ...     2744.940976   \n",
       "2          1               0        113931.57  ...     2712.656429   \n",
       "3          0               0         93826.63  ...     2405.811026   \n",
       "4          1               1         79084.10  ...     1839.165116   \n",
       "\n",
       "   salary_per_products  credit_per_age  products_per_age  credit_per_product  \\\n",
       "0           101348.880       14.738095          0.023810          619.000000   \n",
       "1           112542.580       14.829268          0.024390          608.000000   \n",
       "2            37977.190       11.952381          0.071429          167.333333   \n",
       "3            46913.315       17.923077          0.051282          349.500000   \n",
       "4            79084.100       19.767442          0.023256          850.000000   \n",
       "\n",
       "   Balance_per_age  balance_and_age  salary_and_age  credit_and_age  \\\n",
       "0         0.000000             0.00      4256652.96           25998   \n",
       "1      2044.094146       3436122.26      4614245.78           24928   \n",
       "2      3801.447619       6705753.60      4785125.94           21084   \n",
       "3         0.000000             0.00      3659238.57           27261   \n",
       "4      2918.856279       5396965.26      3400616.30           36550   \n",
       "\n",
       "   salary_and_products  \n",
       "0            101348.88  \n",
       "1            112542.58  \n",
       "2            341794.71  \n",
       "3            187653.26  \n",
       "4             79084.10  \n",
       "\n",
       "[5 rows x 22 columns]"
      ]
     },
     "execution_count": 284,
     "metadata": {},
     "output_type": "execute_result"
    }
   ],
   "source": [
    "df1.head()"
   ]
  },
  {
   "cell_type": "code",
   "execution_count": 285,
   "id": "249f1a9e",
   "metadata": {},
   "outputs": [],
   "source": [
    "cat_columns = []\n",
    "for c in df1.columns:\n",
    "    if df1[c].dtype == 'object':\n",
    "        cat_columns.append(c)   \n",
    "    #print(c)"
   ]
  },
  {
   "cell_type": "code",
   "execution_count": 286,
   "id": "aeb529fe",
   "metadata": {},
   "outputs": [
    {
     "data": {
      "text/plain": [
       "['Geography', 'Gender']"
      ]
     },
     "execution_count": 286,
     "metadata": {},
     "output_type": "execute_result"
    }
   ],
   "source": [
    "cat_columns"
   ]
  },
  {
   "cell_type": "code",
   "execution_count": 287,
   "id": "65e43b5f",
   "metadata": {},
   "outputs": [
    {
     "name": "stderr",
     "output_type": "stream",
     "text": [
      "C:\\Users\\Public\\anaconda3\\Lib\\site-packages\\sklearn\\preprocessing\\_encoders.py:972: FutureWarning: `sparse` was renamed to `sparse_output` in version 1.2 and will be removed in 1.4. `sparse_output` is ignored unless you leave `sparse` to its default value.\n",
      "  warnings.warn(\n"
     ]
    }
   ],
   "source": [
    "# label encoding\n",
    "\n",
    "\n",
    "from sklearn.preprocessing import OneHotEncoder,StandardScaler\n",
    "ohe = OneHotEncoder(drop = 'first',\n",
    "                   sparse = False).set_output(transform = 'pandas')\n",
    "ohe_transform = ohe.fit_transform(df1[cat_columns])\n",
    "df1 = pd.concat([df1,ohe_transform],\n",
    "               axis = 1)\n",
    "df1.drop(cat_columns,axis = 1,\n",
    "        inplace = True)"
   ]
  },
  {
   "cell_type": "code",
   "execution_count": 288,
   "id": "798b480f",
   "metadata": {},
   "outputs": [],
   "source": [
    "import pickle\n",
    "pickle.dump(ohe,open('encoder.pkl','wb'))"
   ]
  },
  {
   "cell_type": "code",
   "execution_count": 289,
   "id": "588000d8",
   "metadata": {},
   "outputs": [
    {
     "name": "stdout",
     "output_type": "stream",
     "text": [
      "<class 'pandas.core.frame.DataFrame'>\n",
      "RangeIndex: 10000 entries, 0 to 9999\n",
      "Data columns (total 23 columns):\n",
      " #   Column               Non-Null Count  Dtype  \n",
      "---  ------               --------------  -----  \n",
      " 0   CreditScore          10000 non-null  int64  \n",
      " 1   Age                  10000 non-null  int64  \n",
      " 2   Tenure               10000 non-null  int64  \n",
      " 3   Balance              10000 non-null  float64\n",
      " 4   NumOfProducts        10000 non-null  int64  \n",
      " 5   HasCrCard            10000 non-null  int64  \n",
      " 6   IsActiveMember       10000 non-null  int64  \n",
      " 7   EstimatedSalary      10000 non-null  float64\n",
      " 8   Exited               10000 non-null  int64  \n",
      " 9   salary_per_credit    10000 non-null  float64\n",
      " 10  salary_per_age       10000 non-null  float64\n",
      " 11  salary_per_products  10000 non-null  float64\n",
      " 12  credit_per_age       10000 non-null  float64\n",
      " 13  products_per_age     10000 non-null  float64\n",
      " 14  credit_per_product   10000 non-null  float64\n",
      " 15  Balance_per_age      10000 non-null  float64\n",
      " 16  balance_and_age      10000 non-null  float64\n",
      " 17  salary_and_age       10000 non-null  float64\n",
      " 18  credit_and_age       10000 non-null  int64  \n",
      " 19  salary_and_products  10000 non-null  float64\n",
      " 20  Geography_Germany    10000 non-null  float64\n",
      " 21  Geography_Spain      10000 non-null  float64\n",
      " 22  Gender_Male          10000 non-null  float64\n",
      "dtypes: float64(15), int64(8)\n",
      "memory usage: 1.8 MB\n"
     ]
    }
   ],
   "source": [
    "df1.info()"
   ]
  },
  {
   "cell_type": "code",
   "execution_count": 290,
   "id": "27a8b06e",
   "metadata": {},
   "outputs": [],
   "source": [
    "x = df1.drop('Exited',axis =1)\n",
    "y = df1.Exited"
   ]
  },
  {
   "cell_type": "code",
   "execution_count": 291,
   "id": "8973e388",
   "metadata": {},
   "outputs": [
    {
     "data": {
      "text/html": [
       "<div>\n",
       "<style scoped>\n",
       "    .dataframe tbody tr th:only-of-type {\n",
       "        vertical-align: middle;\n",
       "    }\n",
       "\n",
       "    .dataframe tbody tr th {\n",
       "        vertical-align: top;\n",
       "    }\n",
       "\n",
       "    .dataframe thead th {\n",
       "        text-align: right;\n",
       "    }\n",
       "</style>\n",
       "<table border=\"1\" class=\"dataframe\">\n",
       "  <thead>\n",
       "    <tr style=\"text-align: right;\">\n",
       "      <th></th>\n",
       "      <th>CreditScore</th>\n",
       "      <th>Age</th>\n",
       "      <th>Tenure</th>\n",
       "      <th>Balance</th>\n",
       "      <th>NumOfProducts</th>\n",
       "      <th>HasCrCard</th>\n",
       "      <th>IsActiveMember</th>\n",
       "      <th>EstimatedSalary</th>\n",
       "      <th>salary_per_credit</th>\n",
       "      <th>salary_per_age</th>\n",
       "      <th>...</th>\n",
       "      <th>products_per_age</th>\n",
       "      <th>credit_per_product</th>\n",
       "      <th>Balance_per_age</th>\n",
       "      <th>balance_and_age</th>\n",
       "      <th>salary_and_age</th>\n",
       "      <th>credit_and_age</th>\n",
       "      <th>salary_and_products</th>\n",
       "      <th>Geography_Germany</th>\n",
       "      <th>Geography_Spain</th>\n",
       "      <th>Gender_Male</th>\n",
       "    </tr>\n",
       "  </thead>\n",
       "  <tbody>\n",
       "    <tr>\n",
       "      <th>0</th>\n",
       "      <td>619</td>\n",
       "      <td>42</td>\n",
       "      <td>2</td>\n",
       "      <td>0.00</td>\n",
       "      <td>1</td>\n",
       "      <td>1</td>\n",
       "      <td>1</td>\n",
       "      <td>101348.88</td>\n",
       "      <td>163.730016</td>\n",
       "      <td>2413.068571</td>\n",
       "      <td>...</td>\n",
       "      <td>0.023810</td>\n",
       "      <td>619.000000</td>\n",
       "      <td>0.000000</td>\n",
       "      <td>0.00</td>\n",
       "      <td>4256652.96</td>\n",
       "      <td>25998</td>\n",
       "      <td>101348.88</td>\n",
       "      <td>0.0</td>\n",
       "      <td>0.0</td>\n",
       "      <td>0.0</td>\n",
       "    </tr>\n",
       "    <tr>\n",
       "      <th>1</th>\n",
       "      <td>608</td>\n",
       "      <td>41</td>\n",
       "      <td>1</td>\n",
       "      <td>83807.86</td>\n",
       "      <td>1</td>\n",
       "      <td>0</td>\n",
       "      <td>1</td>\n",
       "      <td>112542.58</td>\n",
       "      <td>185.102928</td>\n",
       "      <td>2744.940976</td>\n",
       "      <td>...</td>\n",
       "      <td>0.024390</td>\n",
       "      <td>608.000000</td>\n",
       "      <td>2044.094146</td>\n",
       "      <td>3436122.26</td>\n",
       "      <td>4614245.78</td>\n",
       "      <td>24928</td>\n",
       "      <td>112542.58</td>\n",
       "      <td>0.0</td>\n",
       "      <td>1.0</td>\n",
       "      <td>0.0</td>\n",
       "    </tr>\n",
       "    <tr>\n",
       "      <th>2</th>\n",
       "      <td>502</td>\n",
       "      <td>42</td>\n",
       "      <td>8</td>\n",
       "      <td>159660.80</td>\n",
       "      <td>3</td>\n",
       "      <td>1</td>\n",
       "      <td>0</td>\n",
       "      <td>113931.57</td>\n",
       "      <td>226.955319</td>\n",
       "      <td>2712.656429</td>\n",
       "      <td>...</td>\n",
       "      <td>0.071429</td>\n",
       "      <td>167.333333</td>\n",
       "      <td>3801.447619</td>\n",
       "      <td>6705753.60</td>\n",
       "      <td>4785125.94</td>\n",
       "      <td>21084</td>\n",
       "      <td>341794.71</td>\n",
       "      <td>0.0</td>\n",
       "      <td>0.0</td>\n",
       "      <td>0.0</td>\n",
       "    </tr>\n",
       "    <tr>\n",
       "      <th>3</th>\n",
       "      <td>699</td>\n",
       "      <td>39</td>\n",
       "      <td>1</td>\n",
       "      <td>0.00</td>\n",
       "      <td>2</td>\n",
       "      <td>0</td>\n",
       "      <td>0</td>\n",
       "      <td>93826.63</td>\n",
       "      <td>134.229800</td>\n",
       "      <td>2405.811026</td>\n",
       "      <td>...</td>\n",
       "      <td>0.051282</td>\n",
       "      <td>349.500000</td>\n",
       "      <td>0.000000</td>\n",
       "      <td>0.00</td>\n",
       "      <td>3659238.57</td>\n",
       "      <td>27261</td>\n",
       "      <td>187653.26</td>\n",
       "      <td>0.0</td>\n",
       "      <td>0.0</td>\n",
       "      <td>0.0</td>\n",
       "    </tr>\n",
       "    <tr>\n",
       "      <th>4</th>\n",
       "      <td>850</td>\n",
       "      <td>43</td>\n",
       "      <td>2</td>\n",
       "      <td>125510.82</td>\n",
       "      <td>1</td>\n",
       "      <td>1</td>\n",
       "      <td>1</td>\n",
       "      <td>79084.10</td>\n",
       "      <td>93.040118</td>\n",
       "      <td>1839.165116</td>\n",
       "      <td>...</td>\n",
       "      <td>0.023256</td>\n",
       "      <td>850.000000</td>\n",
       "      <td>2918.856279</td>\n",
       "      <td>5396965.26</td>\n",
       "      <td>3400616.30</td>\n",
       "      <td>36550</td>\n",
       "      <td>79084.10</td>\n",
       "      <td>0.0</td>\n",
       "      <td>1.0</td>\n",
       "      <td>0.0</td>\n",
       "    </tr>\n",
       "    <tr>\n",
       "      <th>...</th>\n",
       "      <td>...</td>\n",
       "      <td>...</td>\n",
       "      <td>...</td>\n",
       "      <td>...</td>\n",
       "      <td>...</td>\n",
       "      <td>...</td>\n",
       "      <td>...</td>\n",
       "      <td>...</td>\n",
       "      <td>...</td>\n",
       "      <td>...</td>\n",
       "      <td>...</td>\n",
       "      <td>...</td>\n",
       "      <td>...</td>\n",
       "      <td>...</td>\n",
       "      <td>...</td>\n",
       "      <td>...</td>\n",
       "      <td>...</td>\n",
       "      <td>...</td>\n",
       "      <td>...</td>\n",
       "      <td>...</td>\n",
       "      <td>...</td>\n",
       "    </tr>\n",
       "    <tr>\n",
       "      <th>9995</th>\n",
       "      <td>771</td>\n",
       "      <td>39</td>\n",
       "      <td>5</td>\n",
       "      <td>0.00</td>\n",
       "      <td>2</td>\n",
       "      <td>1</td>\n",
       "      <td>0</td>\n",
       "      <td>96270.64</td>\n",
       "      <td>124.864643</td>\n",
       "      <td>2468.477949</td>\n",
       "      <td>...</td>\n",
       "      <td>0.051282</td>\n",
       "      <td>385.500000</td>\n",
       "      <td>0.000000</td>\n",
       "      <td>0.00</td>\n",
       "      <td>3754554.96</td>\n",
       "      <td>30069</td>\n",
       "      <td>192541.28</td>\n",
       "      <td>0.0</td>\n",
       "      <td>0.0</td>\n",
       "      <td>1.0</td>\n",
       "    </tr>\n",
       "    <tr>\n",
       "      <th>9996</th>\n",
       "      <td>516</td>\n",
       "      <td>35</td>\n",
       "      <td>10</td>\n",
       "      <td>57369.61</td>\n",
       "      <td>1</td>\n",
       "      <td>1</td>\n",
       "      <td>1</td>\n",
       "      <td>101699.77</td>\n",
       "      <td>197.092578</td>\n",
       "      <td>2905.707714</td>\n",
       "      <td>...</td>\n",
       "      <td>0.028571</td>\n",
       "      <td>516.000000</td>\n",
       "      <td>1639.131714</td>\n",
       "      <td>2007936.35</td>\n",
       "      <td>3559491.95</td>\n",
       "      <td>18060</td>\n",
       "      <td>101699.77</td>\n",
       "      <td>0.0</td>\n",
       "      <td>0.0</td>\n",
       "      <td>1.0</td>\n",
       "    </tr>\n",
       "    <tr>\n",
       "      <th>9997</th>\n",
       "      <td>709</td>\n",
       "      <td>36</td>\n",
       "      <td>7</td>\n",
       "      <td>0.00</td>\n",
       "      <td>1</td>\n",
       "      <td>0</td>\n",
       "      <td>1</td>\n",
       "      <td>42085.58</td>\n",
       "      <td>59.359069</td>\n",
       "      <td>1169.043889</td>\n",
       "      <td>...</td>\n",
       "      <td>0.027778</td>\n",
       "      <td>709.000000</td>\n",
       "      <td>0.000000</td>\n",
       "      <td>0.00</td>\n",
       "      <td>1515080.88</td>\n",
       "      <td>25524</td>\n",
       "      <td>42085.58</td>\n",
       "      <td>0.0</td>\n",
       "      <td>0.0</td>\n",
       "      <td>0.0</td>\n",
       "    </tr>\n",
       "    <tr>\n",
       "      <th>9998</th>\n",
       "      <td>772</td>\n",
       "      <td>42</td>\n",
       "      <td>3</td>\n",
       "      <td>75075.31</td>\n",
       "      <td>2</td>\n",
       "      <td>1</td>\n",
       "      <td>0</td>\n",
       "      <td>92888.52</td>\n",
       "      <td>120.321917</td>\n",
       "      <td>2211.631429</td>\n",
       "      <td>...</td>\n",
       "      <td>0.047619</td>\n",
       "      <td>386.000000</td>\n",
       "      <td>1787.507381</td>\n",
       "      <td>3153163.02</td>\n",
       "      <td>3901317.84</td>\n",
       "      <td>32424</td>\n",
       "      <td>185777.04</td>\n",
       "      <td>1.0</td>\n",
       "      <td>0.0</td>\n",
       "      <td>1.0</td>\n",
       "    </tr>\n",
       "    <tr>\n",
       "      <th>9999</th>\n",
       "      <td>792</td>\n",
       "      <td>28</td>\n",
       "      <td>4</td>\n",
       "      <td>130142.79</td>\n",
       "      <td>1</td>\n",
       "      <td>1</td>\n",
       "      <td>0</td>\n",
       "      <td>38190.78</td>\n",
       "      <td>48.220682</td>\n",
       "      <td>1363.956429</td>\n",
       "      <td>...</td>\n",
       "      <td>0.035714</td>\n",
       "      <td>792.000000</td>\n",
       "      <td>4647.956786</td>\n",
       "      <td>3643998.12</td>\n",
       "      <td>1069341.84</td>\n",
       "      <td>22176</td>\n",
       "      <td>38190.78</td>\n",
       "      <td>0.0</td>\n",
       "      <td>0.0</td>\n",
       "      <td>0.0</td>\n",
       "    </tr>\n",
       "  </tbody>\n",
       "</table>\n",
       "<p>10000 rows × 22 columns</p>\n",
       "</div>"
      ],
      "text/plain": [
       "      CreditScore  Age  Tenure    Balance  NumOfProducts  HasCrCard  \\\n",
       "0             619   42       2       0.00              1          1   \n",
       "1             608   41       1   83807.86              1          0   \n",
       "2             502   42       8  159660.80              3          1   \n",
       "3             699   39       1       0.00              2          0   \n",
       "4             850   43       2  125510.82              1          1   \n",
       "...           ...  ...     ...        ...            ...        ...   \n",
       "9995          771   39       5       0.00              2          1   \n",
       "9996          516   35      10   57369.61              1          1   \n",
       "9997          709   36       7       0.00              1          0   \n",
       "9998          772   42       3   75075.31              2          1   \n",
       "9999          792   28       4  130142.79              1          1   \n",
       "\n",
       "      IsActiveMember  EstimatedSalary  salary_per_credit  salary_per_age  ...  \\\n",
       "0                  1        101348.88         163.730016     2413.068571  ...   \n",
       "1                  1        112542.58         185.102928     2744.940976  ...   \n",
       "2                  0        113931.57         226.955319     2712.656429  ...   \n",
       "3                  0         93826.63         134.229800     2405.811026  ...   \n",
       "4                  1         79084.10          93.040118     1839.165116  ...   \n",
       "...              ...              ...                ...             ...  ...   \n",
       "9995               0         96270.64         124.864643     2468.477949  ...   \n",
       "9996               1        101699.77         197.092578     2905.707714  ...   \n",
       "9997               1         42085.58          59.359069     1169.043889  ...   \n",
       "9998               0         92888.52         120.321917     2211.631429  ...   \n",
       "9999               0         38190.78          48.220682     1363.956429  ...   \n",
       "\n",
       "      products_per_age  credit_per_product  Balance_per_age  balance_and_age  \\\n",
       "0             0.023810          619.000000         0.000000             0.00   \n",
       "1             0.024390          608.000000      2044.094146       3436122.26   \n",
       "2             0.071429          167.333333      3801.447619       6705753.60   \n",
       "3             0.051282          349.500000         0.000000             0.00   \n",
       "4             0.023256          850.000000      2918.856279       5396965.26   \n",
       "...                ...                 ...              ...              ...   \n",
       "9995          0.051282          385.500000         0.000000             0.00   \n",
       "9996          0.028571          516.000000      1639.131714       2007936.35   \n",
       "9997          0.027778          709.000000         0.000000             0.00   \n",
       "9998          0.047619          386.000000      1787.507381       3153163.02   \n",
       "9999          0.035714          792.000000      4647.956786       3643998.12   \n",
       "\n",
       "      salary_and_age  credit_and_age  salary_and_products  Geography_Germany  \\\n",
       "0         4256652.96           25998            101348.88                0.0   \n",
       "1         4614245.78           24928            112542.58                0.0   \n",
       "2         4785125.94           21084            341794.71                0.0   \n",
       "3         3659238.57           27261            187653.26                0.0   \n",
       "4         3400616.30           36550             79084.10                0.0   \n",
       "...              ...             ...                  ...                ...   \n",
       "9995      3754554.96           30069            192541.28                0.0   \n",
       "9996      3559491.95           18060            101699.77                0.0   \n",
       "9997      1515080.88           25524             42085.58                0.0   \n",
       "9998      3901317.84           32424            185777.04                1.0   \n",
       "9999      1069341.84           22176             38190.78                0.0   \n",
       "\n",
       "      Geography_Spain  Gender_Male  \n",
       "0                 0.0          0.0  \n",
       "1                 1.0          0.0  \n",
       "2                 0.0          0.0  \n",
       "3                 0.0          0.0  \n",
       "4                 1.0          0.0  \n",
       "...               ...          ...  \n",
       "9995              0.0          1.0  \n",
       "9996              0.0          1.0  \n",
       "9997              0.0          0.0  \n",
       "9998              0.0          1.0  \n",
       "9999              0.0          0.0  \n",
       "\n",
       "[10000 rows x 22 columns]"
      ]
     },
     "execution_count": 291,
     "metadata": {},
     "output_type": "execute_result"
    }
   ],
   "source": [
    "x"
   ]
  },
  {
   "cell_type": "code",
   "execution_count": 292,
   "id": "75ed5451",
   "metadata": {},
   "outputs": [
    {
     "data": {
      "text/html": [
       "<div>\n",
       "<style scoped>\n",
       "    .dataframe tbody tr th:only-of-type {\n",
       "        vertical-align: middle;\n",
       "    }\n",
       "\n",
       "    .dataframe tbody tr th {\n",
       "        vertical-align: top;\n",
       "    }\n",
       "\n",
       "    .dataframe thead th {\n",
       "        text-align: right;\n",
       "    }\n",
       "</style>\n",
       "<table border=\"1\" class=\"dataframe\">\n",
       "  <thead>\n",
       "    <tr style=\"text-align: right;\">\n",
       "      <th></th>\n",
       "      <th>CreditScore</th>\n",
       "      <th>Age</th>\n",
       "      <th>Tenure</th>\n",
       "      <th>Balance</th>\n",
       "      <th>NumOfProducts</th>\n",
       "      <th>HasCrCard</th>\n",
       "      <th>IsActiveMember</th>\n",
       "      <th>EstimatedSalary</th>\n",
       "      <th>salary_per_credit</th>\n",
       "      <th>salary_per_age</th>\n",
       "      <th>...</th>\n",
       "      <th>products_per_age</th>\n",
       "      <th>credit_per_product</th>\n",
       "      <th>Balance_per_age</th>\n",
       "      <th>balance_and_age</th>\n",
       "      <th>salary_and_age</th>\n",
       "      <th>credit_and_age</th>\n",
       "      <th>salary_and_products</th>\n",
       "      <th>Geography_Germany</th>\n",
       "      <th>Geography_Spain</th>\n",
       "      <th>Gender_Male</th>\n",
       "    </tr>\n",
       "  </thead>\n",
       "  <tbody>\n",
       "    <tr>\n",
       "      <th>0</th>\n",
       "      <td>-0.326221</td>\n",
       "      <td>0.293517</td>\n",
       "      <td>-1.041760</td>\n",
       "      <td>-1.225848</td>\n",
       "      <td>-0.911583</td>\n",
       "      <td>0.646092</td>\n",
       "      <td>0.970243</td>\n",
       "      <td>0.021886</td>\n",
       "      <td>0.064712</td>\n",
       "      <td>-0.189387</td>\n",
       "      <td>...</td>\n",
       "      <td>-0.941661</td>\n",
       "      <td>0.722019</td>\n",
       "      <td>-1.131569</td>\n",
       "      <td>-1.131792</td>\n",
       "      <td>0.144372</td>\n",
       "      <td>0.086709</td>\n",
       "      <td>-0.468334</td>\n",
       "      <td>-0.578736</td>\n",
       "      <td>-0.573809</td>\n",
       "      <td>-1.095988</td>\n",
       "    </tr>\n",
       "    <tr>\n",
       "      <th>1</th>\n",
       "      <td>-0.440036</td>\n",
       "      <td>0.198164</td>\n",
       "      <td>-1.387538</td>\n",
       "      <td>0.117350</td>\n",
       "      <td>-0.911583</td>\n",
       "      <td>-1.547768</td>\n",
       "      <td>0.970243</td>\n",
       "      <td>0.216534</td>\n",
       "      <td>0.289518</td>\n",
       "      <td>-0.003628</td>\n",
       "      <td>...</td>\n",
       "      <td>-0.911836</td>\n",
       "      <td>0.662115</td>\n",
       "      <td>-0.023552</td>\n",
       "      <td>0.166484</td>\n",
       "      <td>0.285696</td>\n",
       "      <td>-0.049277</td>\n",
       "      <td>-0.368067</td>\n",
       "      <td>-0.578736</td>\n",
       "      <td>1.742740</td>\n",
       "      <td>-1.095988</td>\n",
       "    </tr>\n",
       "    <tr>\n",
       "      <th>2</th>\n",
       "      <td>-1.536794</td>\n",
       "      <td>0.293517</td>\n",
       "      <td>1.032908</td>\n",
       "      <td>1.333053</td>\n",
       "      <td>2.527057</td>\n",
       "      <td>0.646092</td>\n",
       "      <td>-1.030670</td>\n",
       "      <td>0.240687</td>\n",
       "      <td>0.729733</td>\n",
       "      <td>-0.021699</td>\n",
       "      <td>...</td>\n",
       "      <td>1.503985</td>\n",
       "      <td>-1.737668</td>\n",
       "      <td>0.929035</td>\n",
       "      <td>1.401855</td>\n",
       "      <td>0.353230</td>\n",
       "      <td>-0.537811</td>\n",
       "      <td>1.685448</td>\n",
       "      <td>-0.578736</td>\n",
       "      <td>-0.573809</td>\n",
       "      <td>-1.095988</td>\n",
       "    </tr>\n",
       "    <tr>\n",
       "      <th>3</th>\n",
       "      <td>0.501521</td>\n",
       "      <td>0.007457</td>\n",
       "      <td>-1.387538</td>\n",
       "      <td>-1.225848</td>\n",
       "      <td>0.807737</td>\n",
       "      <td>-1.547768</td>\n",
       "      <td>-1.030670</td>\n",
       "      <td>-0.108918</td>\n",
       "      <td>-0.245579</td>\n",
       "      <td>-0.193450</td>\n",
       "      <td>...</td>\n",
       "      <td>0.469288</td>\n",
       "      <td>-0.745625</td>\n",
       "      <td>-1.131569</td>\n",
       "      <td>-1.131792</td>\n",
       "      <td>-0.091733</td>\n",
       "      <td>0.247224</td>\n",
       "      <td>0.304733</td>\n",
       "      <td>-0.578736</td>\n",
       "      <td>-0.573809</td>\n",
       "      <td>-1.095988</td>\n",
       "    </tr>\n",
       "    <tr>\n",
       "      <th>4</th>\n",
       "      <td>2.063884</td>\n",
       "      <td>0.388871</td>\n",
       "      <td>-1.041760</td>\n",
       "      <td>0.785728</td>\n",
       "      <td>-0.911583</td>\n",
       "      <td>0.646092</td>\n",
       "      <td>0.970243</td>\n",
       "      <td>-0.365276</td>\n",
       "      <td>-0.678823</td>\n",
       "      <td>-0.510618</td>\n",
       "      <td>...</td>\n",
       "      <td>-0.970099</td>\n",
       "      <td>1.979999</td>\n",
       "      <td>0.450619</td>\n",
       "      <td>0.907353</td>\n",
       "      <td>-0.193943</td>\n",
       "      <td>1.427762</td>\n",
       "      <td>-0.667770</td>\n",
       "      <td>-0.578736</td>\n",
       "      <td>1.742740</td>\n",
       "      <td>-1.095988</td>\n",
       "    </tr>\n",
       "  </tbody>\n",
       "</table>\n",
       "<p>5 rows × 22 columns</p>\n",
       "</div>"
      ],
      "text/plain": [
       "   CreditScore       Age    Tenure   Balance  NumOfProducts  HasCrCard  \\\n",
       "0    -0.326221  0.293517 -1.041760 -1.225848      -0.911583   0.646092   \n",
       "1    -0.440036  0.198164 -1.387538  0.117350      -0.911583  -1.547768   \n",
       "2    -1.536794  0.293517  1.032908  1.333053       2.527057   0.646092   \n",
       "3     0.501521  0.007457 -1.387538 -1.225848       0.807737  -1.547768   \n",
       "4     2.063884  0.388871 -1.041760  0.785728      -0.911583   0.646092   \n",
       "\n",
       "   IsActiveMember  EstimatedSalary  salary_per_credit  salary_per_age  ...  \\\n",
       "0        0.970243         0.021886           0.064712       -0.189387  ...   \n",
       "1        0.970243         0.216534           0.289518       -0.003628  ...   \n",
       "2       -1.030670         0.240687           0.729733       -0.021699  ...   \n",
       "3       -1.030670        -0.108918          -0.245579       -0.193450  ...   \n",
       "4        0.970243        -0.365276          -0.678823       -0.510618  ...   \n",
       "\n",
       "   products_per_age  credit_per_product  Balance_per_age  balance_and_age  \\\n",
       "0         -0.941661            0.722019        -1.131569        -1.131792   \n",
       "1         -0.911836            0.662115        -0.023552         0.166484   \n",
       "2          1.503985           -1.737668         0.929035         1.401855   \n",
       "3          0.469288           -0.745625        -1.131569        -1.131792   \n",
       "4         -0.970099            1.979999         0.450619         0.907353   \n",
       "\n",
       "   salary_and_age  credit_and_age  salary_and_products  Geography_Germany  \\\n",
       "0        0.144372        0.086709            -0.468334          -0.578736   \n",
       "1        0.285696       -0.049277            -0.368067          -0.578736   \n",
       "2        0.353230       -0.537811             1.685448          -0.578736   \n",
       "3       -0.091733        0.247224             0.304733          -0.578736   \n",
       "4       -0.193943        1.427762            -0.667770          -0.578736   \n",
       "\n",
       "   Geography_Spain  Gender_Male  \n",
       "0        -0.573809    -1.095988  \n",
       "1         1.742740    -1.095988  \n",
       "2        -0.573809    -1.095988  \n",
       "3        -0.573809    -1.095988  \n",
       "4         1.742740    -1.095988  \n",
       "\n",
       "[5 rows x 22 columns]"
      ]
     },
     "execution_count": 292,
     "metadata": {},
     "output_type": "execute_result"
    }
   ],
   "source": [
    "scaler = StandardScaler()\n",
    "x_scaled = scaler.fit_transform(x)\n",
    "x_scaled = pd.DataFrame(x_scaled, columns = x.columns)\n",
    "x_scaled.head()\n"
   ]
  },
  {
   "cell_type": "code",
   "execution_count": 293,
   "id": "44989d39",
   "metadata": {},
   "outputs": [],
   "source": [
    "pickle.dump(scaler,open('scal.pkl','wb'))"
   ]
  },
  {
   "cell_type": "code",
   "execution_count": 294,
   "id": "28148ce5",
   "metadata": {},
   "outputs": [],
   "source": [
    "#I created training and test datasets \n",
    "np.random.seed(42)\n",
    "\n",
    "x_train,x_test,y_train,y_test = train_test_split(x,y,test_size=0.2,random_state=0)\n"
   ]
  },
  {
   "cell_type": "code",
   "execution_count": null,
   "id": "ec43ed87",
   "metadata": {},
   "outputs": [],
   "source": []
  },
  {
   "cell_type": "code",
   "execution_count": null,
   "id": "c671fcfa",
   "metadata": {},
   "outputs": [],
   "source": []
  },
  {
   "cell_type": "code",
   "execution_count": 295,
   "id": "b9b2ecd8",
   "metadata": {},
   "outputs": [],
   "source": [
    "models = {\"Logistic Regression\": LogisticRegression(),\n",
    "         \"DecisionTreeClassifier\": DecisionTreeClassifier(),\n",
    "         \"Random Forest\": RandomForestClassifier(),\n",
    "         'ExtraTree':ExtraTreeClassifier(),\n",
    "         'Adaboost':AdaBoostClassifier()}\n",
    "\n",
    "def fit_and_score(models,x_train,x_test,y_train,y_test):\n",
    "    np.random.seed(42)\n",
    "    model_scores = {}\n",
    "    \n",
    "    for name,model in models.items():\n",
    "        #fit the train data to the models\n",
    "        model.fit(x_train,y_train)\n",
    "        \n",
    "        #evaluate the score on the test data\n",
    "        model_scores[name] = model.score(x_test,y_test)\n",
    "        \n",
    "    return model_scores"
   ]
  },
  {
   "cell_type": "code",
   "execution_count": 296,
   "id": "fe501d99",
   "metadata": {},
   "outputs": [
    {
     "name": "stderr",
     "output_type": "stream",
     "text": [
      "C:\\Users\\Public\\anaconda3\\Lib\\site-packages\\sklearn\\linear_model\\_logistic.py:460: ConvergenceWarning: lbfgs failed to converge (status=1):\n",
      "STOP: TOTAL NO. of ITERATIONS REACHED LIMIT.\n",
      "\n",
      "Increase the number of iterations (max_iter) or scale the data as shown in:\n",
      "    https://scikit-learn.org/stable/modules/preprocessing.html\n",
      "Please also refer to the documentation for alternative solver options:\n",
      "    https://scikit-learn.org/stable/modules/linear_model.html#logistic-regression\n",
      "  n_iter_i = _check_optimize_result(\n"
     ]
    },
    {
     "data": {
      "text/plain": [
       "{'Logistic Regression': 0.819,\n",
       " 'DecisionTreeClassifier': 0.7855,\n",
       " 'Random Forest': 0.857,\n",
       " 'ExtraTree': 0.7745,\n",
       " 'Adaboost': 0.8515}"
      ]
     },
     "execution_count": 296,
     "metadata": {},
     "output_type": "execute_result"
    }
   ],
   "source": [
    "model_scores = fit_and_score(models=models,\n",
    "                             x_train=x_train,\n",
    "                             x_test=x_test,\n",
    "                             y_train=y_train,\n",
    "                             y_test=y_test)\n",
    "model_scores"
   ]
  },
  {
   "cell_type": "code",
   "execution_count": 297,
   "id": "e1a7a323",
   "metadata": {},
   "outputs": [],
   "source": [
    "R_F_model = RandomForestClassifier().fit(x_train,y_train)"
   ]
  },
  {
   "cell_type": "code",
   "execution_count": 298,
   "id": "8895fae2",
   "metadata": {},
   "outputs": [
    {
     "data": {
      "text/plain": [
       "0.8605"
      ]
     },
     "execution_count": 298,
     "metadata": {},
     "output_type": "execute_result"
    }
   ],
   "source": [
    "R_F_model.score(x_test,y_test)"
   ]
  },
  {
   "cell_type": "code",
   "execution_count": 299,
   "id": "a661cabf",
   "metadata": {},
   "outputs": [],
   "source": [
    "y_preds = R_F_model.predict(x_test)"
   ]
  },
  {
   "cell_type": "code",
   "execution_count": 300,
   "id": "81dee3bb",
   "metadata": {},
   "outputs": [
    {
     "data": {
      "text/plain": [
       "array([[1517,   78],\n",
       "       [ 201,  204]], dtype=int64)"
      ]
     },
     "execution_count": 300,
     "metadata": {},
     "output_type": "execute_result"
    }
   ],
   "source": [
    "confusion_matrix(y_test,y_preds)"
   ]
  },
  {
   "cell_type": "code",
   "execution_count": 301,
   "id": "5235b27e",
   "metadata": {},
   "outputs": [],
   "source": [
    "def plot_confusion_matrix(y_test, y_preds, model_name):\n",
    "    cm = confusion_matrix(y_test, y_preds)\n",
    "    conf_matrix = pd.DataFrame(data = cm,columns = ['Predicted:0','Predicted:1'], index = ['Actual:0','Actual:1'])\n",
    "    sns.heatmap(conf_matrix, annot = True, fmt = 'd', cbar = False, linewidths = 0.1, annot_kws = {'size':25})\n",
    "    plt.xticks(fontsize = 20)\n",
    "    plt.yticks(fontsize = 20)\n",
    "    plt.title(\"Confusion matrix for \" + model_name, fontsize = 15)\n",
    "    plt.show()"
   ]
  },
  {
   "cell_type": "code",
   "execution_count": 302,
   "id": "ae7ec622",
   "metadata": {},
   "outputs": [
    {
     "data": {
      "image/png": "[encoded data removed]",
      "text/plain": [
       "<Figure size 640x480 with 1 Axes>"
      ]
     },
     "metadata": {},
     "output_type": "display_data"
    }
   ],
   "source": [
    "#Plotting confusion matrix:\n",
    "plot_confusion_matrix(y_test, y_preds, 'RandomForest')\n"
   ]
  },
  {
   "cell_type": "code",
   "execution_count": null,
   "id": "a645d401",
   "metadata": {},
   "outputs": [],
   "source": []
  },
  {
   "cell_type": "markdown",
   "id": "b051ae28",
   "metadata": {},
   "source": [
    "#### Creating an ANN model"
   ]
  },
  {
   "cell_type": "markdown",
   "id": "2a66ca5d",
   "metadata": {},
   "source": [
    "##### Model Architecture"
   ]
  },
  {
   "cell_type": "code",
   "execution_count": 303,
   "id": "b27ca134",
   "metadata": {},
   "outputs": [],
   "source": [
    "import tensorflow"
   ]
  },
  {
   "cell_type": "code",
   "execution_count": 304,
   "id": "d65e881b",
   "metadata": {},
   "outputs": [],
   "source": [
    "from tensorflow.keras.models import Sequential\n",
    "from tensorflow.keras.layers import Flatten,Dense,Dropout"
   ]
  },
  {
   "cell_type": "code",
   "execution_count": 305,
   "id": "1fb43f28",
   "metadata": {},
   "outputs": [
    {
     "name": "stdout",
     "output_type": "stream",
     "text": [
      "Epoch 1/50\n",
      "250/250 [==============================] - 3s 4ms/step - loss: 0.5316 - accuracy: 0.7879\n",
      "Epoch 2/50\n",
      "250/250 [==============================] - 1s 3ms/step - loss: 0.5025 - accuracy: 0.7960\n",
      "Epoch 3/50\n",
      "250/250 [==============================] - 1s 3ms/step - loss: 0.5028 - accuracy: 0.7960\n",
      "Epoch 4/50\n",
      "250/250 [==============================] - 1s 3ms/step - loss: 0.5023 - accuracy: 0.7960\n",
      "Epoch 5/50\n",
      "250/250 [==============================] - 1s 3ms/step - loss: 0.5018 - accuracy: 0.7960\n",
      "Epoch 6/50\n",
      "250/250 [==============================] - 1s 3ms/step - loss: 0.5003 - accuracy: 0.7960\n",
      "Epoch 7/50\n",
      "250/250 [==============================] - 1s 4ms/step - loss: 0.5007 - accuracy: 0.7960\n",
      "Epoch 8/50\n",
      "250/250 [==============================] - 1s 4ms/step - loss: 0.5000 - accuracy: 0.7960\n",
      "Epoch 9/50\n",
      "250/250 [==============================] - 1s 3ms/step - loss: 0.5000 - accuracy: 0.7960\n",
      "Epoch 10/50\n",
      "250/250 [==============================] - 1s 3ms/step - loss: 0.5005 - accuracy: 0.7960\n",
      "Epoch 11/50\n",
      "250/250 [==============================] - 1s 3ms/step - loss: 0.5002 - accuracy: 0.7960\n",
      "Epoch 12/50\n",
      "250/250 [==============================] - 1s 3ms/step - loss: 0.5003 - accuracy: 0.7960\n",
      "Epoch 13/50\n",
      "250/250 [==============================] - 1s 3ms/step - loss: 0.5011 - accuracy: 0.7960\n",
      "Epoch 14/50\n",
      "250/250 [==============================] - 1s 3ms/step - loss: 0.5003 - accuracy: 0.7960\n",
      "Epoch 15/50\n",
      "250/250 [==============================] - 1s 3ms/step - loss: 0.4994 - accuracy: 0.7960\n",
      "Epoch 16/50\n",
      "250/250 [==============================] - 1s 4ms/step - loss: 0.4996 - accuracy: 0.7960\n",
      "Epoch 17/50\n",
      "250/250 [==============================] - 1s 4ms/step - loss: 0.5004 - accuracy: 0.7960\n",
      "Epoch 18/50\n",
      "250/250 [==============================] - 1s 3ms/step - loss: 0.4993 - accuracy: 0.7960\n",
      "Epoch 19/50\n",
      "250/250 [==============================] - 1s 3ms/step - loss: 0.5003 - accuracy: 0.7960\n",
      "Epoch 20/50\n",
      "250/250 [==============================] - 1s 3ms/step - loss: 0.5003 - accuracy: 0.7960\n",
      "Epoch 21/50\n",
      "250/250 [==============================] - 1s 3ms/step - loss: 0.5009 - accuracy: 0.7960\n",
      "Epoch 22/50\n",
      "250/250 [==============================] - 1s 3ms/step - loss: 0.4998 - accuracy: 0.7960\n",
      "Epoch 23/50\n",
      "250/250 [==============================] - 1s 3ms/step - loss: 0.5020 - accuracy: 0.7960\n",
      "Epoch 24/50\n",
      "250/250 [==============================] - 1s 3ms/step - loss: 0.5008 - accuracy: 0.7960\n",
      "Epoch 25/50\n",
      "250/250 [==============================] - 1s 3ms/step - loss: 0.5010 - accuracy: 0.7960\n",
      "Epoch 26/50\n",
      "250/250 [==============================] - 1s 3ms/step - loss: 0.5008 - accuracy: 0.7960\n",
      "Epoch 27/50\n",
      "250/250 [==============================] - 1s 3ms/step - loss: 0.5004 - accuracy: 0.7960\n",
      "Epoch 28/50\n",
      "250/250 [==============================] - 1s 3ms/step - loss: 0.4998 - accuracy: 0.7960\n",
      "Epoch 29/50\n",
      "250/250 [==============================] - 1s 3ms/step - loss: 0.5003 - accuracy: 0.7960\n",
      "Epoch 30/50\n",
      "250/250 [==============================] - 1s 4ms/step - loss: 0.4993 - accuracy: 0.7960\n",
      "Epoch 31/50\n",
      "250/250 [==============================] - 1s 4ms/step - loss: 0.5014 - accuracy: 0.7960\n",
      "Epoch 32/50\n",
      "250/250 [==============================] - 1s 3ms/step - loss: 0.5017 - accuracy: 0.7960\n",
      "Epoch 33/50\n",
      "250/250 [==============================] - 1s 3ms/step - loss: 0.5018 - accuracy: 0.7960\n",
      "Epoch 34/50\n",
      "250/250 [==============================] - 1s 3ms/step - loss: 0.5008 - accuracy: 0.7960\n",
      "Epoch 35/50\n",
      "250/250 [==============================] - 1s 3ms/step - loss: 0.5014 - accuracy: 0.7960\n",
      "Epoch 36/50\n",
      "250/250 [==============================] - 1s 3ms/step - loss: 0.5010 - accuracy: 0.7960\n",
      "Epoch 37/50\n",
      "250/250 [==============================] - 1s 3ms/step - loss: 0.5011 - accuracy: 0.7960\n",
      "Epoch 38/50\n",
      "250/250 [==============================] - 1s 3ms/step - loss: 0.5016 - accuracy: 0.7960\n",
      "Epoch 39/50\n",
      "250/250 [==============================] - 1s 3ms/step - loss: 0.5011 - accuracy: 0.7960\n",
      "Epoch 40/50\n",
      "250/250 [==============================] - 1s 3ms/step - loss: 0.5018 - accuracy: 0.7960\n",
      "Epoch 41/50\n",
      "250/250 [==============================] - 1s 3ms/step - loss: 0.5032 - accuracy: 0.7960\n",
      "Epoch 42/50\n",
      "250/250 [==============================] - 1s 4ms/step - loss: 0.5037 - accuracy: 0.7960\n",
      "Epoch 43/50\n",
      "250/250 [==============================] - 1s 4ms/step - loss: 0.5041 - accuracy: 0.7960\n",
      "Epoch 44/50\n",
      "250/250 [==============================] - 1s 3ms/step - loss: 0.5019 - accuracy: 0.7960\n",
      "Epoch 45/50\n",
      "250/250 [==============================] - 1s 4ms/step - loss: 0.5042 - accuracy: 0.7960\n",
      "Epoch 46/50\n",
      "250/250 [==============================] - 1s 3ms/step - loss: 0.5029 - accuracy: 0.7960\n",
      "Epoch 47/50\n",
      "250/250 [==============================] - 1s 3ms/step - loss: 0.5026 - accuracy: 0.7960\n",
      "Epoch 48/50\n",
      "250/250 [==============================] - 1s 3ms/step - loss: 0.5024 - accuracy: 0.7960\n",
      "Epoch 49/50\n",
      "250/250 [==============================] - 1s 3ms/step - loss: 0.5019 - accuracy: 0.7960\n",
      "Epoch 50/50\n",
      "250/250 [==============================] - 1s 3ms/step - loss: 0.5023 - accuracy: 0.7960\n"
     ]
    },
    {
     "data": {
      "text/plain": [
       "<keras.src.callbacks.History at 0x24a08e17b50>"
      ]
     },
     "execution_count": 305,
     "metadata": {},
     "output_type": "execute_result"
    }
   ],
   "source": [
    "model = Sequential([\n",
    "    Flatten(input_shape = (x_train.shape[1],)),\n",
    "    Dense(64, activation = 'relu', input_shape=(x_train.shape[1],)),\n",
    "    Dropout(0.2),\n",
    "    Dense(32, activation = 'tanh'),\n",
    "    Dense(16, activation = 'relu'),\n",
    "    Dense(4, activation = 'sigmoid'),\n",
    "    Dense(1, activation = 'sigmoid')\n",
    "])\n",
    "\n",
    "model.compile(optimizer = 'adam',\n",
    "             loss = 'binary_crossentropy',\n",
    "             metrics = ['accuracy'])\n",
    "\n",
    "model.fit(x_train,y_train, epochs = 50, batch_size = 32, verbose=1)"
   ]
  },
  {
   "cell_type": "code",
   "execution_count": 306,
   "id": "8c8b300f",
   "metadata": {},
   "outputs": [
    {
     "name": "stdout",
     "output_type": "stream",
     "text": [
      "63/63 [==============================] - 0s 3ms/step - loss: 0.4992 - accuracy: 0.7975\n"
     ]
    },
    {
     "data": {
      "text/plain": [
       "[0.49915820360183716, 0.7975000143051147]"
      ]
     },
     "execution_count": 306,
     "metadata": {},
     "output_type": "execute_result"
    }
   ],
   "source": [
    "model.evaluate(x_test,y_test)"
   ]
  },
  {
   "cell_type": "code",
   "execution_count": 307,
   "id": "86848bd6",
   "metadata": {},
   "outputs": [
    {
     "name": "stdout",
     "output_type": "stream",
     "text": [
      "63/63 [==============================] - 0s 2ms/step\n"
     ]
    },
    {
     "data": {
      "text/plain": [
       "array([[0.21025062],\n",
       "       [0.21025062],\n",
       "       [0.23017846],\n",
       "       ...,\n",
       "       [0.21025062],\n",
       "       [0.23067765],\n",
       "       [0.21025062]], dtype=float32)"
      ]
     },
     "execution_count": 307,
     "metadata": {},
     "output_type": "execute_result"
    }
   ],
   "source": [
    "y_preds = model.predict(x_test)\n",
    "y_preds"
   ]
  },
  {
   "cell_type": "code",
   "execution_count": 311,
   "id": "cf13edaa",
   "metadata": {},
   "outputs": [
    {
     "data": {
      "text/plain": [
       "array([[0.23067765],\n",
       "       [0.1706293 ],\n",
       "       [0.1706293 ],\n",
       "       [0.23017846],\n",
       "       [0.1706293 ],\n",
       "       [0.23130825],\n",
       "       [0.23017846],\n",
       "       [0.21025062],\n",
       "       [0.1706293 ],\n",
       "       [0.21025062]], dtype=float32)"
      ]
     },
     "execution_count": 311,
     "metadata": {},
     "output_type": "execute_result"
    }
   ],
   "source": [
    "y_preds[20:30]"
   ]
  },
  {
   "cell_type": "markdown",
   "id": "a0958a38",
   "metadata": {},
   "source": [
    "##### The randomforest classifier model is the best performing model and I will try and perform hyperparameter tuning to try and improve the model performance"
   ]
  },
  {
   "cell_type": "code",
   "execution_count": 316,
   "id": "a752263f",
   "metadata": {},
   "outputs": [
    {
     "name": "stdout",
     "output_type": "stream",
     "text": [
      "Fitting 5 folds for each of 216 candidates, totalling 1080 fits\n",
      "Best parameters: {'bootstrap': False, 'max_depth': 10, 'min_samples_leaf': 4, 'min_samples_split': 2, 'n_estimators': 100}\n",
      "Best score: 0.8616249999999999\n",
      "              precision    recall  f1-score   support\n",
      "\n",
      "           0       0.88      0.95      0.92      1595\n",
      "           1       0.74      0.51      0.60       405\n",
      "\n",
      "    accuracy                           0.86      2000\n",
      "   macro avg       0.81      0.73      0.76      2000\n",
      "weighted avg       0.86      0.86      0.85      2000\n",
      "\n"
     ]
    }
   ],
   "source": [
    "from sklearn.model_selection import GridSearchCV, RandomizedSearchCV\n",
    "from sklearn.metrics import classification_report\n",
    "\n",
    "#Define the model\n",
    "model = RandomForestClassifier(random_state=42)\n",
    "\n",
    "# Define the hyperparameters grid\n",
    "param_grid = {\n",
    "    'n_estimators': [50, 100, 200],\n",
    "    'max_depth': [None, 10, 20, 30],\n",
    "    'min_samples_split': [2, 5, 10],\n",
    "    'min_samples_leaf': [1, 2, 4],\n",
    "    'bootstrap': [True, False]\n",
    "}\n",
    "\n",
    "\n",
    "# Create the GridSearchCV object\n",
    "grid_search = GridSearchCV(estimator=model, param_grid=param_grid, cv=5, n_jobs=-1, verbose=2)\n",
    "\n",
    "# Fit the grid search\n",
    "grid_search.fit(x_train, y_train)\n",
    "\n",
    "# Print the best parameters and score\n",
    "print(f'Best parameters: {grid_search.best_params_}')\n",
    "print(f'Best score: {grid_search.best_score_}')\n",
    "\n",
    "\n",
    "# Evaluate the best model\n",
    "best_model = grid_search.best_estimator_\n",
    "y_pred = best_model.predict(x_test)\n",
    "print(classification_report(y_test, y_pred))\n",
    "\n"
   ]
  },
  {
   "cell_type": "code",
   "execution_count": 317,
   "id": "d8449414",
   "metadata": {},
   "outputs": [
    {
     "data": {
      "text/plain": [
       "array([0, 0, 0, ..., 0, 0, 0], dtype=int64)"
      ]
     },
     "execution_count": 317,
     "metadata": {},
     "output_type": "execute_result"
    }
   ],
   "source": [
    "y_pred"
   ]
  },
  {
   "cell_type": "code",
   "execution_count": 318,
   "id": "713a6e52",
   "metadata": {},
   "outputs": [
    {
     "data": {
      "text/plain": [
       "array([[1523,   72],\n",
       "       [ 199,  206]], dtype=int64)"
      ]
     },
     "execution_count": 318,
     "metadata": {},
     "output_type": "execute_result"
    }
   ],
   "source": [
    "confusion_matrix(y_test,y_pred)"
   ]
  },
  {
   "cell_type": "markdown",
   "id": "0a1ecbd6",
   "metadata": {},
   "source": [
    "##### The model performs well when it is predicting that a customer will not churn"
   ]
  },
  {
   "cell_type": "code",
   "execution_count": 326,
   "id": "d3a05935",
   "metadata": {},
   "outputs": [
    {
     "data": {
      "text/html": [
       "<style>#sk-container-id-1 {color: black;}#sk-container-id-1 pre{padding: 0;}#sk-container-id-1 div.sk-toggleable {background-color: white;}#sk-container-id-1 label.sk-toggleable__label {cursor: pointer;display: block;width: 100%;margin-bottom: 0;padding: 0.3em;box-sizing: border-box;text-align: center;}#sk-container-id-1 label.sk-toggleable__label-arrow:before {content: \"▸\";float: left;margin-right: 0.25em;color: #696969;}#sk-container-id-1 label.sk-toggleable__label-arrow:hover:before {color: black;}#sk-container-id-1 div.sk-estimator:hover label.sk-toggleable__label-arrow:before {color: black;}#sk-container-id-1 div.sk-toggleable__content {max-height: 0;max-width: 0;overflow: hidden;text-align: left;background-color: #f0f8ff;}#sk-container-id-1 div.sk-toggleable__content pre {margin: 0.2em;color: black;border-radius: 0.25em;background-color: #f0f8ff;}#sk-container-id-1 input.sk-toggleable__control:checked~div.sk-toggleable__content {max-height: 200px;max-width: 100%;overflow: auto;}#sk-container-id-1 input.sk-toggleable__control:checked~label.sk-toggleable__label-arrow:before {content: \"▾\";}#sk-container-id-1 div.sk-estimator input.sk-toggleable__control:checked~label.sk-toggleable__label {background-color: #d4ebff;}#sk-container-id-1 div.sk-label input.sk-toggleable__control:checked~label.sk-toggleable__label {background-color: #d4ebff;}#sk-container-id-1 input.sk-hidden--visually {border: 0;clip: rect(1px 1px 1px 1px);clip: rect(1px, 1px, 1px, 1px);height: 1px;margin: -1px;overflow: hidden;padding: 0;position: absolute;width: 1px;}#sk-container-id-1 div.sk-estimator {font-family: monospace;background-color: #f0f8ff;border: 1px dotted black;border-radius: 0.25em;box-sizing: border-box;margin-bottom: 0.5em;}#sk-container-id-1 div.sk-estimator:hover {background-color: #d4ebff;}#sk-container-id-1 div.sk-parallel-item::after {content: \"\";width: 100%;border-bottom: 1px solid gray;flex-grow: 1;}#sk-container-id-1 div.sk-label:hover label.sk-toggleable__label {background-color: #d4ebff;}#sk-container-id-1 div.sk-serial::before {content: \"\";position: absolute;border-left: 1px solid gray;box-sizing: border-box;top: 0;bottom: 0;left: 50%;z-index: 0;}#sk-container-id-1 div.sk-serial {display: flex;flex-direction: column;align-items: center;background-color: white;padding-right: 0.2em;padding-left: 0.2em;position: relative;}#sk-container-id-1 div.sk-item {position: relative;z-index: 1;}#sk-container-id-1 div.sk-parallel {display: flex;align-items: stretch;justify-content: center;background-color: white;position: relative;}#sk-container-id-1 div.sk-item::before, #sk-container-id-1 div.sk-parallel-item::before {content: \"\";position: absolute;border-left: 1px solid gray;box-sizing: border-box;top: 0;bottom: 0;left: 50%;z-index: -1;}#sk-container-id-1 div.sk-parallel-item {display: flex;flex-direction: column;z-index: 1;position: relative;background-color: white;}#sk-container-id-1 div.sk-parallel-item:first-child::after {align-self: flex-end;width: 50%;}#sk-container-id-1 div.sk-parallel-item:last-child::after {align-self: flex-start;width: 50%;}#sk-container-id-1 div.sk-parallel-item:only-child::after {width: 0;}#sk-container-id-1 div.sk-dashed-wrapped {border: 1px dashed gray;margin: 0 0.4em 0.5em 0.4em;box-sizing: border-box;padding-bottom: 0.4em;background-color: white;}#sk-container-id-1 div.sk-label label {font-family: monospace;font-weight: bold;display: inline-block;line-height: 1.2em;}#sk-container-id-1 div.sk-label-container {text-align: center;}#sk-container-id-1 div.sk-container {/* jupyter's `normalize.less` sets `[hidden] { display: none; }` but bootstrap.min.css set `[hidden] { display: none !important; }` so we also need the `!important` here to be able to override the default hidden behavior on the sphinx rendered scikit-learn.org. See: https://github.com/scikit-learn/scikit-learn/issues/21755 */display: inline-block !important;position: relative;}#sk-container-id-1 div.sk-text-repr-fallback {display: none;}</style><div id=\"sk-container-id-1\" class=\"sk-top-container\"><div class=\"sk-text-repr-fallback\"><pre>RandomForestClassifier(bootstrap=False, max_depth=10, min_samples_leaf=4)</pre><b>In a Jupyter environment, please rerun this cell to show the HTML representation or trust the notebook. <br />On GitHub, the HTML representation is unable to render, please try loading this page with nbviewer.org.</b></div><div class=\"sk-container\" hidden><div class=\"sk-item\"><div class=\"sk-estimator sk-toggleable\"><input class=\"sk-toggleable__control sk-hidden--visually\" id=\"sk-estimator-id-1\" type=\"checkbox\" checked><label for=\"sk-estimator-id-1\" class=\"sk-toggleable__label sk-toggleable__label-arrow\">RandomForestClassifier</label><div class=\"sk-toggleable__content\"><pre>RandomForestClassifier(bootstrap=False, max_depth=10, min_samples_leaf=4)</pre></div></div></div></div></div>"
      ],
      "text/plain": [
       "RandomForestClassifier(bootstrap=False, max_depth=10, min_samples_leaf=4)"
      ]
     },
     "execution_count": 326,
     "metadata": {},
     "output_type": "execute_result"
    }
   ],
   "source": [
    "model = RandomForestClassifier(bootstrap= False,\n",
    "                               max_depth= 10,\n",
    "                               min_samples_leaf= 4,\n",
    "                               min_samples_split= 2,\n",
    "                               n_estimators= 100)\n",
    "model.fit(x_train,y_train)"
   ]
  },
  {
   "cell_type": "code",
   "execution_count": 327,
   "id": "230d88e9",
   "metadata": {},
   "outputs": [
    {
     "data": {
      "text/plain": [
       "0.8645"
      ]
     },
     "execution_count": 327,
     "metadata": {},
     "output_type": "execute_result"
    }
   ],
   "source": [
    "model.score(x_test,y_test)"
   ]
  },
  {
   "cell_type": "code",
   "execution_count": 328,
   "id": "67d4ed78",
   "metadata": {},
   "outputs": [],
   "source": [
    "pickle.dump(model,open('model.pkl','wb'))"
   ]
  },
  {
   "cell_type": "code",
   "execution_count": 329,
   "id": "f013d428",
   "metadata": {},
   "outputs": [
    {
     "data": {
      "text/html": [
       "<div>\n",
       "<style scoped>\n",
       "    .dataframe tbody tr th:only-of-type {\n",
       "        vertical-align: middle;\n",
       "    }\n",
       "\n",
       "    .dataframe tbody tr th {\n",
       "        vertical-align: top;\n",
       "    }\n",
       "\n",
       "    .dataframe thead th {\n",
       "        text-align: right;\n",
       "    }\n",
       "</style>\n",
       "<table border=\"1\" class=\"dataframe\">\n",
       "  <thead>\n",
       "    <tr style=\"text-align: right;\">\n",
       "      <th></th>\n",
       "      <th>Surname</th>\n",
       "      <th>CreditScore</th>\n",
       "      <th>Geography</th>\n",
       "      <th>Gender</th>\n",
       "      <th>Age</th>\n",
       "      <th>Tenure</th>\n",
       "      <th>Balance</th>\n",
       "      <th>NumOfProducts</th>\n",
       "      <th>HasCrCard</th>\n",
       "      <th>IsActiveMember</th>\n",
       "      <th>...</th>\n",
       "      <th>salary_per_age</th>\n",
       "      <th>salary_per_products</th>\n",
       "      <th>credit_per_age</th>\n",
       "      <th>products_per_age</th>\n",
       "      <th>credit_per_product</th>\n",
       "      <th>Balance_per_age</th>\n",
       "      <th>balance_and_age</th>\n",
       "      <th>salary_and_age</th>\n",
       "      <th>credit_and_age</th>\n",
       "      <th>salary_and_products</th>\n",
       "    </tr>\n",
       "  </thead>\n",
       "  <tbody>\n",
       "    <tr>\n",
       "      <th>0</th>\n",
       "      <td>Hargrave</td>\n",
       "      <td>619</td>\n",
       "      <td>France</td>\n",
       "      <td>Female</td>\n",
       "      <td>42</td>\n",
       "      <td>2</td>\n",
       "      <td>0.00</td>\n",
       "      <td>1</td>\n",
       "      <td>1</td>\n",
       "      <td>1</td>\n",
       "      <td>...</td>\n",
       "      <td>2413.068571</td>\n",
       "      <td>101348.880</td>\n",
       "      <td>14.738095</td>\n",
       "      <td>0.023810</td>\n",
       "      <td>619.000000</td>\n",
       "      <td>0.000000</td>\n",
       "      <td>0.00</td>\n",
       "      <td>4256652.96</td>\n",
       "      <td>25998</td>\n",
       "      <td>101348.88</td>\n",
       "    </tr>\n",
       "    <tr>\n",
       "      <th>1</th>\n",
       "      <td>Hill</td>\n",
       "      <td>608</td>\n",
       "      <td>Spain</td>\n",
       "      <td>Female</td>\n",
       "      <td>41</td>\n",
       "      <td>1</td>\n",
       "      <td>83807.86</td>\n",
       "      <td>1</td>\n",
       "      <td>0</td>\n",
       "      <td>1</td>\n",
       "      <td>...</td>\n",
       "      <td>2744.940976</td>\n",
       "      <td>112542.580</td>\n",
       "      <td>14.829268</td>\n",
       "      <td>0.024390</td>\n",
       "      <td>608.000000</td>\n",
       "      <td>2044.094146</td>\n",
       "      <td>3436122.26</td>\n",
       "      <td>4614245.78</td>\n",
       "      <td>24928</td>\n",
       "      <td>112542.58</td>\n",
       "    </tr>\n",
       "    <tr>\n",
       "      <th>2</th>\n",
       "      <td>Onio</td>\n",
       "      <td>502</td>\n",
       "      <td>France</td>\n",
       "      <td>Female</td>\n",
       "      <td>42</td>\n",
       "      <td>8</td>\n",
       "      <td>159660.80</td>\n",
       "      <td>3</td>\n",
       "      <td>1</td>\n",
       "      <td>0</td>\n",
       "      <td>...</td>\n",
       "      <td>2712.656429</td>\n",
       "      <td>37977.190</td>\n",
       "      <td>11.952381</td>\n",
       "      <td>0.071429</td>\n",
       "      <td>167.333333</td>\n",
       "      <td>3801.447619</td>\n",
       "      <td>6705753.60</td>\n",
       "      <td>4785125.94</td>\n",
       "      <td>21084</td>\n",
       "      <td>341794.71</td>\n",
       "    </tr>\n",
       "    <tr>\n",
       "      <th>3</th>\n",
       "      <td>Boni</td>\n",
       "      <td>699</td>\n",
       "      <td>France</td>\n",
       "      <td>Female</td>\n",
       "      <td>39</td>\n",
       "      <td>1</td>\n",
       "      <td>0.00</td>\n",
       "      <td>2</td>\n",
       "      <td>0</td>\n",
       "      <td>0</td>\n",
       "      <td>...</td>\n",
       "      <td>2405.811026</td>\n",
       "      <td>46913.315</td>\n",
       "      <td>17.923077</td>\n",
       "      <td>0.051282</td>\n",
       "      <td>349.500000</td>\n",
       "      <td>0.000000</td>\n",
       "      <td>0.00</td>\n",
       "      <td>3659238.57</td>\n",
       "      <td>27261</td>\n",
       "      <td>187653.26</td>\n",
       "    </tr>\n",
       "    <tr>\n",
       "      <th>4</th>\n",
       "      <td>Mitchell</td>\n",
       "      <td>850</td>\n",
       "      <td>Spain</td>\n",
       "      <td>Female</td>\n",
       "      <td>43</td>\n",
       "      <td>2</td>\n",
       "      <td>125510.82</td>\n",
       "      <td>1</td>\n",
       "      <td>1</td>\n",
       "      <td>1</td>\n",
       "      <td>...</td>\n",
       "      <td>1839.165116</td>\n",
       "      <td>79084.100</td>\n",
       "      <td>19.767442</td>\n",
       "      <td>0.023256</td>\n",
       "      <td>850.000000</td>\n",
       "      <td>2918.856279</td>\n",
       "      <td>5396965.26</td>\n",
       "      <td>3400616.30</td>\n",
       "      <td>36550</td>\n",
       "      <td>79084.10</td>\n",
       "    </tr>\n",
       "    <tr>\n",
       "      <th>...</th>\n",
       "      <td>...</td>\n",
       "      <td>...</td>\n",
       "      <td>...</td>\n",
       "      <td>...</td>\n",
       "      <td>...</td>\n",
       "      <td>...</td>\n",
       "      <td>...</td>\n",
       "      <td>...</td>\n",
       "      <td>...</td>\n",
       "      <td>...</td>\n",
       "      <td>...</td>\n",
       "      <td>...</td>\n",
       "      <td>...</td>\n",
       "      <td>...</td>\n",
       "      <td>...</td>\n",
       "      <td>...</td>\n",
       "      <td>...</td>\n",
       "      <td>...</td>\n",
       "      <td>...</td>\n",
       "      <td>...</td>\n",
       "      <td>...</td>\n",
       "    </tr>\n",
       "    <tr>\n",
       "      <th>9995</th>\n",
       "      <td>Obijiaku</td>\n",
       "      <td>771</td>\n",
       "      <td>France</td>\n",
       "      <td>Male</td>\n",
       "      <td>39</td>\n",
       "      <td>5</td>\n",
       "      <td>0.00</td>\n",
       "      <td>2</td>\n",
       "      <td>1</td>\n",
       "      <td>0</td>\n",
       "      <td>...</td>\n",
       "      <td>2468.477949</td>\n",
       "      <td>48135.320</td>\n",
       "      <td>19.769231</td>\n",
       "      <td>0.051282</td>\n",
       "      <td>385.500000</td>\n",
       "      <td>0.000000</td>\n",
       "      <td>0.00</td>\n",
       "      <td>3754554.96</td>\n",
       "      <td>30069</td>\n",
       "      <td>192541.28</td>\n",
       "    </tr>\n",
       "    <tr>\n",
       "      <th>9996</th>\n",
       "      <td>Johnstone</td>\n",
       "      <td>516</td>\n",
       "      <td>France</td>\n",
       "      <td>Male</td>\n",
       "      <td>35</td>\n",
       "      <td>10</td>\n",
       "      <td>57369.61</td>\n",
       "      <td>1</td>\n",
       "      <td>1</td>\n",
       "      <td>1</td>\n",
       "      <td>...</td>\n",
       "      <td>2905.707714</td>\n",
       "      <td>101699.770</td>\n",
       "      <td>14.742857</td>\n",
       "      <td>0.028571</td>\n",
       "      <td>516.000000</td>\n",
       "      <td>1639.131714</td>\n",
       "      <td>2007936.35</td>\n",
       "      <td>3559491.95</td>\n",
       "      <td>18060</td>\n",
       "      <td>101699.77</td>\n",
       "    </tr>\n",
       "    <tr>\n",
       "      <th>9997</th>\n",
       "      <td>Liu</td>\n",
       "      <td>709</td>\n",
       "      <td>France</td>\n",
       "      <td>Female</td>\n",
       "      <td>36</td>\n",
       "      <td>7</td>\n",
       "      <td>0.00</td>\n",
       "      <td>1</td>\n",
       "      <td>0</td>\n",
       "      <td>1</td>\n",
       "      <td>...</td>\n",
       "      <td>1169.043889</td>\n",
       "      <td>42085.580</td>\n",
       "      <td>19.694444</td>\n",
       "      <td>0.027778</td>\n",
       "      <td>709.000000</td>\n",
       "      <td>0.000000</td>\n",
       "      <td>0.00</td>\n",
       "      <td>1515080.88</td>\n",
       "      <td>25524</td>\n",
       "      <td>42085.58</td>\n",
       "    </tr>\n",
       "    <tr>\n",
       "      <th>9998</th>\n",
       "      <td>Sabbatini</td>\n",
       "      <td>772</td>\n",
       "      <td>Germany</td>\n",
       "      <td>Male</td>\n",
       "      <td>42</td>\n",
       "      <td>3</td>\n",
       "      <td>75075.31</td>\n",
       "      <td>2</td>\n",
       "      <td>1</td>\n",
       "      <td>0</td>\n",
       "      <td>...</td>\n",
       "      <td>2211.631429</td>\n",
       "      <td>46444.260</td>\n",
       "      <td>18.380952</td>\n",
       "      <td>0.047619</td>\n",
       "      <td>386.000000</td>\n",
       "      <td>1787.507381</td>\n",
       "      <td>3153163.02</td>\n",
       "      <td>3901317.84</td>\n",
       "      <td>32424</td>\n",
       "      <td>185777.04</td>\n",
       "    </tr>\n",
       "    <tr>\n",
       "      <th>9999</th>\n",
       "      <td>Walker</td>\n",
       "      <td>792</td>\n",
       "      <td>France</td>\n",
       "      <td>Female</td>\n",
       "      <td>28</td>\n",
       "      <td>4</td>\n",
       "      <td>130142.79</td>\n",
       "      <td>1</td>\n",
       "      <td>1</td>\n",
       "      <td>0</td>\n",
       "      <td>...</td>\n",
       "      <td>1363.956429</td>\n",
       "      <td>38190.780</td>\n",
       "      <td>28.285714</td>\n",
       "      <td>0.035714</td>\n",
       "      <td>792.000000</td>\n",
       "      <td>4647.956786</td>\n",
       "      <td>3643998.12</td>\n",
       "      <td>1069341.84</td>\n",
       "      <td>22176</td>\n",
       "      <td>38190.78</td>\n",
       "    </tr>\n",
       "  </tbody>\n",
       "</table>\n",
       "<p>10000 rows × 23 columns</p>\n",
       "</div>"
      ],
      "text/plain": [
       "        Surname  CreditScore Geography  Gender  Age  Tenure    Balance  \\\n",
       "0      Hargrave          619    France  Female   42       2       0.00   \n",
       "1          Hill          608     Spain  Female   41       1   83807.86   \n",
       "2          Onio          502    France  Female   42       8  159660.80   \n",
       "3          Boni          699    France  Female   39       1       0.00   \n",
       "4      Mitchell          850     Spain  Female   43       2  125510.82   \n",
       "...         ...          ...       ...     ...  ...     ...        ...   \n",
       "9995   Obijiaku          771    France    Male   39       5       0.00   \n",
       "9996  Johnstone          516    France    Male   35      10   57369.61   \n",
       "9997        Liu          709    France  Female   36       7       0.00   \n",
       "9998  Sabbatini          772   Germany    Male   42       3   75075.31   \n",
       "9999     Walker          792    France  Female   28       4  130142.79   \n",
       "\n",
       "      NumOfProducts  HasCrCard  IsActiveMember  ...  salary_per_age  \\\n",
       "0                 1          1               1  ...     2413.068571   \n",
       "1                 1          0               1  ...     2744.940976   \n",
       "2                 3          1               0  ...     2712.656429   \n",
       "3                 2          0               0  ...     2405.811026   \n",
       "4                 1          1               1  ...     1839.165116   \n",
       "...             ...        ...             ...  ...             ...   \n",
       "9995              2          1               0  ...     2468.477949   \n",
       "9996              1          1               1  ...     2905.707714   \n",
       "9997              1          0               1  ...     1169.043889   \n",
       "9998              2          1               0  ...     2211.631429   \n",
       "9999              1          1               0  ...     1363.956429   \n",
       "\n",
       "      salary_per_products  credit_per_age  products_per_age  \\\n",
       "0              101348.880       14.738095          0.023810   \n",
       "1              112542.580       14.829268          0.024390   \n",
       "2               37977.190       11.952381          0.071429   \n",
       "3               46913.315       17.923077          0.051282   \n",
       "4               79084.100       19.767442          0.023256   \n",
       "...                   ...             ...               ...   \n",
       "9995            48135.320       19.769231          0.051282   \n",
       "9996           101699.770       14.742857          0.028571   \n",
       "9997            42085.580       19.694444          0.027778   \n",
       "9998            46444.260       18.380952          0.047619   \n",
       "9999            38190.780       28.285714          0.035714   \n",
       "\n",
       "      credit_per_product  Balance_per_age  balance_and_age  salary_and_age  \\\n",
       "0             619.000000         0.000000             0.00      4256652.96   \n",
       "1             608.000000      2044.094146       3436122.26      4614245.78   \n",
       "2             167.333333      3801.447619       6705753.60      4785125.94   \n",
       "3             349.500000         0.000000             0.00      3659238.57   \n",
       "4             850.000000      2918.856279       5396965.26      3400616.30   \n",
       "...                  ...              ...              ...             ...   \n",
       "9995          385.500000         0.000000             0.00      3754554.96   \n",
       "9996          516.000000      1639.131714       2007936.35      3559491.95   \n",
       "9997          709.000000         0.000000             0.00      1515080.88   \n",
       "9998          386.000000      1787.507381       3153163.02      3901317.84   \n",
       "9999          792.000000      4647.956786       3643998.12      1069341.84   \n",
       "\n",
       "      credit_and_age  salary_and_products  \n",
       "0              25998            101348.88  \n",
       "1              24928            112542.58  \n",
       "2              21084            341794.71  \n",
       "3              27261            187653.26  \n",
       "4              36550             79084.10  \n",
       "...              ...                  ...  \n",
       "9995           30069            192541.28  \n",
       "9996           18060            101699.77  \n",
       "9997           25524             42085.58  \n",
       "9998           32424            185777.04  \n",
       "9999           22176             38190.78  \n",
       "\n",
       "[10000 rows x 23 columns]"
      ]
     },
     "execution_count": 329,
     "metadata": {},
     "output_type": "execute_result"
    }
   ],
   "source": [
    "df"
   ]
  },
  {
   "cell_type": "code",
   "execution_count": 330,
   "id": "e436ece6",
   "metadata": {},
   "outputs": [
    {
     "data": {
      "text/plain": [
       "count    10000.000000\n",
       "mean       650.528800\n",
       "std         96.653299\n",
       "min        350.000000\n",
       "25%        584.000000\n",
       "50%        652.000000\n",
       "75%        718.000000\n",
       "max        850.000000\n",
       "Name: CreditScore, dtype: float64"
      ]
     },
     "execution_count": 330,
     "metadata": {},
     "output_type": "execute_result"
    }
   ],
   "source": [
    "df.CreditScore.describe()"
   ]
  },
  {
   "cell_type": "code",
   "execution_count": 331,
   "id": "b9c63565",
   "metadata": {},
   "outputs": [
    {
     "data": {
      "text/plain": [
       "count    10000.000000\n",
       "mean        38.921800\n",
       "std         10.487806\n",
       "min         18.000000\n",
       "25%         32.000000\n",
       "50%         37.000000\n",
       "75%         44.000000\n",
       "max         92.000000\n",
       "Name: Age, dtype: float64"
      ]
     },
     "execution_count": 331,
     "metadata": {},
     "output_type": "execute_result"
    }
   ],
   "source": [
    "df.Age.describe()"
   ]
  },
  {
   "cell_type": "code",
   "execution_count": 332,
   "id": "c2b5f024",
   "metadata": {},
   "outputs": [
    {
     "data": {
      "text/plain": [
       "Index(['Surname', 'CreditScore', 'Geography', 'Gender', 'Age', 'Tenure',\n",
       "       'Balance', 'NumOfProducts', 'HasCrCard', 'IsActiveMember',\n",
       "       'EstimatedSalary', 'Exited', 'salary_per_credit', 'salary_per_age',\n",
       "       'salary_per_products', 'credit_per_age', 'products_per_age',\n",
       "       'credit_per_product', 'Balance_per_age', 'balance_and_age',\n",
       "       'salary_and_age', 'credit_and_age', 'salary_and_products'],\n",
       "      dtype='object')"
      ]
     },
     "execution_count": 332,
     "metadata": {},
     "output_type": "execute_result"
    }
   ],
   "source": [
    "df.columns"
   ]
  },
  {
   "cell_type": "code",
   "execution_count": 337,
   "id": "32917107",
   "metadata": {},
   "outputs": [
    {
     "data": {
      "text/plain": [
       "count     10000.000000\n",
       "mean     100090.239881\n",
       "std       57510.492818\n",
       "min          11.580000\n",
       "25%       51002.110000\n",
       "50%      100193.915000\n",
       "75%      149388.247500\n",
       "max      199992.480000\n",
       "Name: EstimatedSalary, dtype: float64"
      ]
     },
     "execution_count": 337,
     "metadata": {},
     "output_type": "execute_result"
    }
   ],
   "source": [
    "df.EstimatedSalary.describe()"
   ]
  },
  {
   "cell_type": "code",
   "execution_count": 338,
   "id": "d1b764f3",
   "metadata": {},
   "outputs": [],
   "source": [
    "import streamlit as st\n"
   ]
  },
  {
   "cell_type": "code",
   "execution_count": 339,
   "id": "37ffa204",
   "metadata": {},
   "outputs": [
    {
     "data": {
      "text/plain": [
       "Index(['CreditScore', 'Age', 'Tenure', 'Balance', 'NumOfProducts', 'HasCrCard',\n",
       "       'IsActiveMember', 'EstimatedSalary', 'Exited', 'salary_per_credit',\n",
       "       'salary_per_age', 'salary_per_products', 'credit_per_age',\n",
       "       'products_per_age', 'credit_per_product', 'Balance_per_age',\n",
       "       'balance_and_age', 'salary_and_age', 'credit_and_age',\n",
       "       'salary_and_products', 'Geography_Germany', 'Geography_Spain',\n",
       "       'Gender_Male'],\n",
       "      dtype='object')"
      ]
     },
     "execution_count": 339,
     "metadata": {},
     "output_type": "execute_result"
    }
   ],
   "source": [
    "df1.columns"
   ]
  },
  {
   "cell_type": "code",
   "execution_count": null,
   "id": "01a3d1ea",
   "metadata": {},
   "outputs": [],
   "source": []
  }
 ],
 "metadata": {
  "kernelspec": {
   "display_name": "Python 3 (ipykernel)",
   "language": "python",
   "name": "python3"
  },
  "language_info": {
   "codemirror_mode": {
    "name": "ipython",
    "version": 3
   },
   "file_extension": ".py",
   "mimetype": "text/x-python",
   "name": "python",
   "nbconvert_exporter": "python",
   "pygments_lexer": "ipython3",
   "version": "3.11.5"
  }
 },
 "nbformat": 4,
 "nbformat_minor": 5
}
